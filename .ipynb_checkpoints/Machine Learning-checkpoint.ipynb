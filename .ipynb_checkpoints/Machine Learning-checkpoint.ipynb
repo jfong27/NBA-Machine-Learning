{
 "cells": [
  {
   "cell_type": "markdown",
   "metadata": {},
   "source": [
    "## Creating a Model to Predict NBA Finals Champion"
   ]
  },
  {
   "cell_type": "code",
   "execution_count": null,
   "metadata": {
    "collapsed": true
   },
   "outputs": [],
   "source": [
    "import pandas as pd\n",
    "pd.set_option('display.max_rows', 15)\n",
    "import numpy as np\n",
    "import matplotlib.pyplot as plt\n",
    "from sklearn.linear_model import LogisticRegression\n",
    "from sklearn.model_selection import cross_val_score\n",
    "from sklearn.ensemble import RandomForestClassifier\n",
    "from sklearn import preprocessing\n",
    "import operator\n",
    "%matplotlib inline"
   ]
  },
  {
   "cell_type": "markdown",
   "metadata": {},
   "source": [
    "##### Dataframe of every team's seasons dating back to 1960. Columns contain basic data on award winners, basic game stats."
   ]
  },
  {
   "cell_type": "code",
   "execution_count": null,
   "metadata": {
    "collapsed": false
   },
   "outputs": [],
   "source": [
    "data = pd.read_csv('./nba_data.csv')\n",
    "data.drop('Unnamed: 0', axis=1, inplace=True)\n",
    "data['Champion'] = data['Champion'] * 1\n",
    "data.set_value(1312, 'Champion', 1)"
   ]
  },
  {
   "cell_type": "markdown",
   "metadata": {},
   "source": [
    "##### Data on every player, only going back to 1978. Extensive data on each player. Player efficiency ratings, age, weight, height, etc. "
   ]
  },
  {
   "cell_type": "code",
   "execution_count": null,
   "metadata": {
    "collapsed": false
   },
   "outputs": [],
   "source": [
    "player_data = pd.read_csv('./player_data_clean.csv')\n",
    "player_data.drop('Unnamed: 0', axis=1, inplace=True)\n",
    "player_data"
   ]
  },
  {
   "cell_type": "markdown",
   "metadata": {},
   "source": [
    "#### ELO Ratings for Teams by Game"
   ]
  },
  {
   "cell_type": "code",
   "execution_count": null,
   "metadata": {
    "collapsed": false
   },
   "outputs": [],
   "source": [
    "elo_data = pd.read_csv('./nbaallelo.csv')\n",
    "elo_data = elo_data[elo_data.year_id > 1958]\n",
    "elo_data"
   ]
  },
  {
   "cell_type": "markdown",
   "metadata": {},
   "source": [
    "#### Scale the data to hopefully improve performance"
   ]
  },
  {
   "cell_type": "code",
   "execution_count": null,
   "metadata": {
    "collapsed": false
   },
   "outputs": [],
   "source": [
    "inputs = ['Wins', 'MVP', 'Scoring Leader', 'Rebound Leader', \n",
    "          'Assist Leader', 'WS Leader', 'DPOY', 'MIP', '6MOY', \n",
    "          'Coach of Year', 'All-Stars', 'All-Defensive', 'All-NBA', \n",
    "          'FG%', '3P Attempts', '3P%', '2P Attempts', '2P%', 'FT%',\n",
    "          'RPG', 'APG', 'STL', 'BLK', 'TOVPG', 'PPG', 'Accolades', ]\n",
    "\n",
    "for inp in inputs:\n",
    "    data[inp] = preprocessing.scale(data_train[inp])\n",
    "    data[inp] = preprocessing.scale(data_test[inp])\n"
   ]
  },
  {
   "cell_type": "markdown",
   "metadata": {},
   "source": [
    "#### Function takes top three predictions; looks at the team's Win Shares, Player Efficiency Ratings, Age, Weight in an attempt to rank them. "
   ]
  },
  {
   "cell_type": "code",
   "execution_count": null,
   "metadata": {
    "collapsed": false
   },
   "outputs": [],
   "source": [
    "def choose_winner(predictions, year):\n",
    "    ratings = []\n",
    "    for prediction in predictions:\n",
    "        rating = (player_data[(player_data['Team'] == prediction) & (player_data['Year'] == year)]['WS'].sum()\n",
    "                *player_data[(player_data['Team'] == prediction) & (player_data['Year'] == year)]['PER'].sum()\n",
    "                -player_data[(player_data['Team'] == prediction) & (player_data['Year'] == year)]['Age'].sum()\n",
    "                -player_data[(player_data['Team'] == prediction) & (player_data['Year'] == year)]['Weight'].mean()\n",
    "                 )\n",
    "\n",
    "        ratings.append((rating,prediction))\n",
    "        \n",
    "    return max(ratings)"
   ]
  },
  {
   "cell_type": "markdown",
   "metadata": {
    "collapsed": true
   },
   "source": [
    "#### Classification Model\n",
    "This is a sort of manual cross validation. Each year is selected as the test data one at a time,\n",
    " while every other year is used as training. The top 3 probabilities are taken as the top three predictions. This is necessary because the probability of winning a championship is very low. This was needed otherwise the model predicts winners very rarely. The reason player data was not used as training data for the classification model is because we were not able to find a way to merge the dataframes without losing information."
   ]
  },
  {
   "cell_type": "code",
   "execution_count": null,
   "metadata": {
    "collapsed": false
   },
   "outputs": [],
   "source": [
    "inputs = ['Wins', 'MVP', 'DPOY', '6MOY', 'Coach of Year', 'Accolades', 'Scoring Leader',\n",
    "          'All-NBA', 'RPG', 'TOVPG'\n",
    "         ]\n",
    "\n",
    "model = RandomForestClassifier(n_estimators = 50)\n",
    "TP = 0\n",
    "TN = 0\n",
    "FP = 0\n",
    "FN = 0\n",
    "\n",
    "for i in range(1960,2018):\n",
    "    teams = []\n",
    "    model.fit(data[data.Year != i][inputs], data[data.Year != i]['Champion'])\n",
    "    predictions = model.predict_proba(data[data.Year == i][inputs])\n",
    "    predictions = [m[1] for m in predictions]    \n",
    "    \n",
    "    index, value = max(enumerate(predictions), key=operator.itemgetter(1))\n",
    "    predicted1 = data[data.Year == i].iloc[index]['Team']\n",
    "    predictions[index] = 0\n",
    "    index2, value2 = max(enumerate(predictions), key=operator.itemgetter(1))\n",
    "    predicted2 = data[data.Year == i].iloc[index2]['Team']\n",
    "    predictions[index2] = 0\n",
    "    index3, value3 = max(enumerate(predictions), key=operator.itemgetter(1))\n",
    "    predicted3 = data[data.Year == i].iloc[index3]['Team']\n",
    "    \n",
    "    predicted = choose_winner((predicted1, predicted2, predicted3), i)[1]\n",
    "    \n",
    "    actual = data[(data.Year == i) & (data.Champion == 1)].iloc[0]['Team']\n",
    "    if predicted == actual:\n",
    "        TP += 1\n",
    "        TN += len(predictions)-1\n",
    "    else:\n",
    "        FP += 1\n",
    "        FN += 1\n",
    "        TN += len(predictions)-2\n",
    "    \n",
    "print('TP:',TP)\n",
    "print('FP:',FP)\n",
    "print('TN:',TN)\n",
    "print('FN:',FN)\n",
    "precision = TP/(TP+FP)\n",
    "recall = TP/(TP+FN)\n",
    "print('F1:', 1/((1/precision + 1/recall)/2))"
   ]
  },
  {
   "cell_type": "markdown",
   "metadata": {},
   "source": [
    "#### Dummy Model\n",
    "It would be very bad to have performance anywhere near the dummy model"
   ]
  },
  {
   "cell_type": "code",
   "execution_count": null,
   "metadata": {
    "collapsed": false
   },
   "outputs": [],
   "source": [
    "from sklearn.dummy import DummyClassifier\n",
    "model = DummyClassifier()\n",
    "TP = 0\n",
    "TN = 0\n",
    "FP = 0\n",
    "FN = 0\n",
    "for i in range(1960,2018):\n",
    "    teams = []\n",
    "    model.fit(data_train[data_train.Year != i][inputs], data_train[data_train.Year != i]['Champion'])\n",
    "    predictions = model.predict_proba(data[data.Year == i][inputs])\n",
    "    predictions = [m[1] for m in predictions]    \n",
    "    index, value = max(enumerate(predictions), key=operator.itemgetter(1))\n",
    "    \n",
    "    predicted = data[data.Year == i].iloc[index]['Team']\n",
    "    actual = data[(data.Year == i) & (data.Champion == 1)].iloc[0]['Team']\n",
    "    if predicted == actual:\n",
    "        TP += 1\n",
    "        TN += len(predictions)-1\n",
    "    if predicted != actual:\n",
    "        FP += 1\n",
    "        FN += 1\n",
    "        TN += len(predictions)-2\n",
    "    \n",
    "print('TP:',TP)\n",
    "print('FP:',FP)\n",
    "print('TN:',TN)\n",
    "print('FN:',FN)\n",
    "precision = TP/(TP+FP)\n",
    "recall = TP/(TP+FN)\n",
    "print('F1:', 1/((1/precision + 1/recall)/2))\n",
    "\n"
   ]
  },
  {
   "cell_type": "markdown",
   "metadata": {},
   "source": [
    "### Trying every combination of inputs\n",
    "- Note: Takes a long time to run"
   ]
  },
  {
   "cell_type": "code",
   "execution_count": null,
   "metadata": {
    "collapsed": true
   },
   "outputs": [],
   "source": [
    "inputs = ['Wins','MVP','Scoring Leader','Rebound Leader','Assist Leader',\n",
    "          'WS Leader','MIP','6MOY','Coach of Year','All-Stars',\n",
    "          'All-Defensive','All-NBA','FG%','3P Attempts','3P%',\n",
    "          '2P%', 'FT%', 'RPG', 'APG', 'STL', 'BLK', 'TOVPG', 'PPG', 'Accolades'\n",
    "         ]\n",
    "\n",
    "scores = []\n",
    "from sklearn.linear_model import LogisticRegression\n",
    "model = LogisticRegression()\n",
    "#Loop through all possible combinations of keywords. \n",
    "inpu = np.array(inputs)\n",
    "for i in range(2**len(inpu)-5,2**len(inpu)):\n",
    "    mask = list(format(i, '016b'))\n",
    "    mask = np.array([x=='1' for x in mask])\n",
    "    combo = inpu[mask].tolist()\n",
    "    \n",
    "    for i in range(1960,2018):\n",
    "        model.fit(data_train[data_train.Year != i][combo], data_train[data_train.Year != i]['Champion'])\n",
    "        predictions = model.predict_proba(data[data.Year == i][combo])\n",
    "        predictions = [m[1] for m in predictions]    \n",
    "        index, value = max(enumerate(predictions), key=operator.itemgetter(1))\n",
    "\n",
    "        predicted = data[data.Year == i].iloc[index]['Team']\n",
    "\n",
    "        actual = data[(data.Year == i) & (data.Champion == 1)].iloc[0]['Team']\n",
    "        if predicted == actual:\n",
    "            TP += 1\n",
    "            TN += len(predictions)-1\n",
    "        if predicted != actual:\n",
    "            FP += 1\n",
    "            FN += 1\n",
    "            TN += len(predictions)-2\n",
    "\n",
    "    precision = TP/(TP+FP)\n",
    "    recall = TP/(TP+FN)\n",
    "    F1 = ( 1/((1/precision + 1/recall)/2))\n",
    "\n",
    "    scores.append((F1, combo))\n",
    "print(max(scores))\n",
    "\n"
   ]
  }
 ],
 "metadata": {
  "kernelspec": {
   "display_name": "Python 3",
   "language": "python",
   "name": "python3"
  },
  "language_info": {
   "codemirror_mode": {
    "name": "ipython",
    "version": 3
   },
   "file_extension": ".py",
   "mimetype": "text/x-python",
   "name": "python",
   "nbconvert_exporter": "python",
   "pygments_lexer": "ipython3",
   "version": "3.5.2"
  }
 },
 "nbformat": 4,
 "nbformat_minor": 1
}
