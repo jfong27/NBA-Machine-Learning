{
 "cells": [
  {
   "cell_type": "markdown",
   "metadata": {},
   "source": [
    "## Scraping Basketball Reference and NBA.com\n",
    "- We also eventually found a csv file on player data \n",
    "- Another available resource is a dataset on team ELO, a team rating created by FiveThirtyEight\n"
   ]
  },
  {
   "cell_type": "code",
   "execution_count": null,
   "metadata": {
    "collapsed": true
   },
   "outputs": [],
   "source": [
    "import pandas as pd\n",
    "import requests\n",
    "import time\n",
    "import re\n",
    "import numpy as np\n",
    "from bs4 import BeautifulSoup\n",
    "from sklearn.linear_model import LinearRegression\n"
   ]
  },
  {
   "cell_type": "code",
   "execution_count": null,
   "metadata": {
    "collapsed": false
   },
   "outputs": [],
   "source": [
    "data = pd.DataFrame(columns= ['Team', 'Year','Wins','Champion','MVP','Scoring Leader', \n",
    "                              'Rebound Leader', 'Assist Leader', 'WS Leader','DPOY',\n",
    "                              'MIP', '6MOY', 'Coach of Year', 'All-Stars', 'All-Defensive',\n",
    "                              'All-NBA','FG%','3P Attempts', '3P%', '2P Attempts', \n",
    "                              '2P%','FT%','RPG','APG','STL',  'BLK' , 'TOVPG','PPG', \n",
    "                             ])\n",
    "data\n",
    "\n"
   ]
  },
  {
   "cell_type": "markdown",
   "metadata": {},
   "source": [
    "### Functions"
   ]
  },
  {
   "cell_type": "code",
   "execution_count": null,
   "metadata": {
    "collapsed": false
   },
   "outputs": [],
   "source": [
    "# Check if each member of the given team is apart of the list of award winners. \n",
    "# Returns a list of each award, to be apart of the row in the dataframe. \n",
    "def check_roster(team_soup, season_awards, allst_roster, all_def, all_nba_roster):\n",
    "    awards = [0,0,0,0,0,0,0,0,0,0,0,0]\n",
    "    players = team_soup.find_all('td', {'class':'left', 'data-stat':'player'})\n",
    "    roster = [player.text for player in players]\n",
    "    coach = roster.append(team_soup.find(text=re.compile('Coach:')).parent.parent.find('a').text)\n",
    "    \n",
    "    star_count = 0\n",
    "    all_def_count = 0\n",
    "    for allst in allst_roster:\n",
    "        if allst in roster:\n",
    "            star_count += 1\n",
    " \n",
    "    awards[9] = star_count\n",
    "    for i in range(9):\n",
    "        if season_awards[i] in roster:\n",
    "            awards[i] = 1\n",
    "            \n",
    "    for player in roster:\n",
    "        if player in all_def:\n",
    "            all_def_count +=1 \n",
    "    awards[10] = all_def_count\n",
    "\n",
    "\n",
    "    for i in range(3):\n",
    "        for player in all_nba_roster[i]:\n",
    "            if player in roster:\n",
    "                awards[11] += 3-i\n",
    "    \n",
    "    return awards"
   ]
  },
  {
   "cell_type": "code",
   "execution_count": null,
   "metadata": {
    "collapsed": false
   },
   "outputs": [],
   "source": [
    "# Collects all the data to be turned into a row for the dataframe. One season for one team. \n",
    "def get_team_row(all_def, all_nba,season_awards, allst_roster, name, team_url, year, wins):\n",
    "    row = []\n",
    "    row.append(name.replace('*',''))\n",
    "    row.append(year)\n",
    "    row.append(wins)\n",
    "    \n",
    "    \n",
    "    url = 'http://www.basketball-reference.com' + team_url\n",
    "    req = requests.get(url)\n",
    "    time.sleep(0.1)\n",
    "    team_soup = BeautifulSoup(req.text, 'html.parser')\n",
    "    try:\n",
    "        row.append(team_soup.find('br').text[:4] == 'Won ')\n",
    "    except:\n",
    "        row.append(False)\n",
    "        \n",
    "    row += check_roster(team_soup, season_awards, allst_roster,all_def, all_nba)\n",
    "    row += get_statline(req.text)    \n",
    "    return row"
   ]
  },
  {
   "cell_type": "code",
   "execution_count": null,
   "metadata": {
    "collapsed": false
   },
   "outputs": [],
   "source": [
    "# Gets every leader/award winner for a single season.\n",
    "leaders = ['Most Valuable Player', 'PPG Leader', 'RPG Leader',\n",
    "           'APG Leader', 'WS Leader']\n",
    "\n",
    "awards = ['Defensive Player of the Year', 'Most Improved Player', \n",
    "          'Sixth Man of the Year', 'Coach of the Year']\n",
    "\n",
    "def get_award_winners(season, year):\n",
    "    winners = []\n",
    "\n",
    "    if year == 2017:\n",
    "        return ['Russell Westbrook', 'Russell Westbrook', 'Hassan Whiteside','James Harden',\n",
    "                'James Harden', 'Draymond Green', 'Giannis Antetokounmpo','Andrew Iguodala',\n",
    "                \"Mike D'Antoni\"]\n",
    "    for leader in leaders:\n",
    "        winners.append(season.body.find(text=leader).parent.parent.find('a').text)\n",
    "\n",
    "    #Using a different site that's more convenient to scrape other awards.\n",
    "    year_string = '%s' % str(year)\n",
    "    next_year = '%s' % str(year+1)\n",
    "    years = '%s-%s' % (year_string, next_year[2:4])\n",
    "\n",
    "    for award in awards:\n",
    "        aw_url = 'http://www.nba.com/history/%s-award/' %(award.lower().replace(' ', '-'))\n",
    "        time.sleep(0.1)\n",
    "        aw_req = requests.get(aw_url)\n",
    "        aw_soup = BeautifulSoup(aw_req.text, 'html.parser')\n",
    "\n",
    "        table = aw_soup.find('table')    \n",
    "        try:\n",
    "            #If there is a link, you need 3 parents. if no link, 2\n",
    "            if ((award == 'Defensive Player of the Year' and year > 2000)\n",
    "                or (award == 'Most Improved Player' and year > 2004)\n",
    "                or (award == 'Sixth Man of the Year' and year > 2001)\n",
    "                or (award == 'Coach of the Year' and year > 2002)):\n",
    "                winners.append(table.find(text=re.compile(years)).parent.parent.parent.find_all('td')[1].text.strip())\n",
    "            else:\n",
    "                winners.append(table.find(text=re.compile(years)).parent.parent.find_all('td')[1].text.strip())\n",
    "\n",
    "        except:\n",
    "            winners.append('')\n",
    "    \n",
    "    return winners "
   ]
  },
  {
   "cell_type": "code",
   "execution_count": null,
   "metadata": {
    "collapsed": true
   },
   "outputs": [],
   "source": [
    "# Get a list of all stars for the year. \n",
    "def get_allstars(year):\n",
    "\n",
    "    url = \"http://www.basketball-reference.com/allstar/NBA_%s.html/\" % str(year)\n",
    "    req = requests.get(url)\n",
    "    soup = BeautifulSoup(req.text, 'html.parser')\n",
    "    all_stars = []\n",
    "    \n",
    "    #No all star game in 1999 due to league lockout\n",
    "    if year != 1999:\n",
    "        for row in soup.find(\"div\", {\"id\" : \"all_East\"}).find_all(\"th\", {\"class\" : \"left\", \"scope\" : \"row\", \"csk\" : True}):\n",
    "            all_stars.append(row.find(\"a\").text)\n",
    "        for row in soup.find(\"div\", {\"id\" : \"all_West\"}).find_all(\"th\", {\"class\" : \"left\", \"scope\" : \"row\", \"csk\" : True}):\n",
    "            all_stars.append(row.find(\"a\").text)\n",
    "        \n",
    "    return all_stars"
   ]
  },
  {
   "cell_type": "code",
   "execution_count": null,
   "metadata": {
    "collapsed": true
   },
   "outputs": [],
   "source": [
    "# List of all defensive players in NBA history. \n",
    "def get_all_def():\n",
    "    url = \"http://www.nba.com/history/all-defensive-teams/\"\n",
    "    req = requests.get(url)\n",
    "    defensive = BeautifulSoup(req.text, 'html.parser')\n",
    "    all_defense = []\n",
    "    \n",
    "    for i in defensive.find_all(\"td\" , {\"class\" : \"cnnIEColTxtL\", \"style\" : \"text-align: center\"}):\n",
    "        if i.text == \"First Team\":\n",
    "            continue\n",
    "        all_defense.append(i.text)\n",
    "        \n",
    "    for i in defensive.find_all(\"td\" , {\"class\" : \"cnnIEColTxtR\", \"style\" : \"text-align: center\"}):\n",
    "        if i.text == \"Second Team\":\n",
    "            continue\n",
    "        all_defense.append(i.text)\n",
    "    return all_defense"
   ]
  },
  {
   "cell_type": "code",
   "execution_count": null,
   "metadata": {
    "collapsed": true
   },
   "outputs": [],
   "source": [
    "# Returns a dictionary. The key is the year, the item is a list of lists: first, second and third team. \n",
    "def get_all_nba():\n",
    "    req = requests.get(\"http://www.basketball-reference.com/awards/all_league.html\")\n",
    "    soup = BeautifulSoup(req.text, \"html.parser\")\n",
    "    j = 0\n",
    "    i = 0\n",
    "    data_stat = 1\n",
    "    prev_year = \"17\"\n",
    "    dict_allnba = {\n",
    "\n",
    "    }\n",
    "    players = []\n",
    "    for row in soup.find_all(\"tr\", {\"class\" : False}):\n",
    "        content = row.text\n",
    "        year = content[:7]\n",
    "        year = year[:2] + year[-2:]\n",
    "        league = content[7:10]\n",
    "        if league != \"NBA\":\n",
    "            j+=1 \n",
    "            continue\n",
    "        if ((i == 2) & (year != prev_year)):\n",
    "            dict_allnba[prev_year].append(players)\n",
    "            data_stat = 1\n",
    "            i = 0\n",
    "            j += 1\n",
    "        if (i == 3):\n",
    "            i = 0\n",
    "            data_stat = 1\n",
    "        if (soup.find_all(\"td\", {\"class\" : \"left\", \"data-stat\" : \"%s\" % str(1)})[j].find(\"a\") == None):\n",
    "            j += 1\n",
    "        # Create a list of players to hold 5 players\n",
    "        players = []   \n",
    "        if year not in dict_allnba:\n",
    "            dict_allnba[year] = []\n",
    "\n",
    "        for stat in range(data_stat, data_stat + 5):\n",
    "            try:\n",
    "                if (stat > 5) & (j != 0): \n",
    "                    new_j = int(j / 2)\n",
    "                    players.append(soup.find_all(\"td\", {\"class\" : \"left\", \"data-stat\" : \"%s\" % str(stat)})[new_j].find(\"a\").text)\n",
    "                else:\n",
    "                    players.append(soup.find_all(\"td\", {\"class\" : \"left\", \"data-stat\" : \"%s\" % str(stat)})[j].find(\"a\").text)\n",
    "            except:\n",
    "                pass           \n",
    "            if (stat == 5) | (stat == 10) | (stat == 15):\n",
    "                dict_allnba[year].append(players)\n",
    "                players = []\n",
    "        data_stat += 5\n",
    "        i += 1\n",
    "        prev_year = year\n",
    "\n",
    "        if (data_stat == 16):\n",
    "            data_stat = 1\n",
    "            j += 1\n",
    "    dict_allnba['2000'] = dict_allnba.pop('1900')\n",
    "    return dict_allnba"
   ]
  },
  {
   "cell_type": "code",
   "execution_count": null,
   "metadata": {
    "collapsed": false
   },
   "outputs": [],
   "source": [
    "# Gets the average statline for the team's season \n",
    "def get_statline(page_text):\n",
    "    stats = [0,0,0,0,0,0,0,0,0,0,0,0]\n",
    "    stat_search = ['fg_pct', 'fg3a', 'fg3_pct', 'fg2a', 'fg2_pct',\n",
    "                   'ft_pct','trb_per_g','ast_per_g','stl_per_g',\n",
    "                   'blk_per_g','tov_per_g','pts_per_g']\n",
    "    \n",
    "    for i in range(len(stat_search)):\n",
    "        indexer = page_text.find('data-stat=\"%s\" >' % (stat_search[i]))\n",
    "        try:\n",
    "            offset = len(stat_search[i]) + 14\n",
    "            stat = re.sub(\"<\", '',page_text[indexer+offset: indexer+offset+6]).rstrip('/td<>')\n",
    "            stat = float(stat)\n",
    "        except:\n",
    "            stat = 0\n",
    "        stats[i] = stat\n",
    "    \n",
    "    return stats"
   ]
  },
  {
   "cell_type": "markdown",
   "metadata": {},
   "source": [
    "## Main cell that calls functions and assembles the dataframe. "
   ]
  },
  {
   "cell_type": "code",
   "execution_count": null,
   "metadata": {
    "collapsed": false
   },
   "outputs": [],
   "source": [
    "row_num = 0\n",
    "all_def = get_all_def()\n",
    "all_nba = get_all_nba()\n",
    "for i in range(1960,2018):\n",
    "    print(i)\n",
    "    double_count = 0\n",
    "    url = ('http://www.basketball-reference.com/leagues/NBA_%s.html' % str(i))\n",
    "    time.sleep(0.1)\n",
    "    req = requests.get(url)\n",
    "    season = BeautifulSoup(req.text, 'html.parser')\n",
    "    teams = season.find_all('th', {'class': 'left', 'data-stat':'team_name'})\n",
    "   \n",
    "    season_awards = get_award_winners(season, i)\n",
    "    allst_roster = get_allstars(i)\n",
    "    all_nba_team = all_nba[str(i)]\n",
    "    \n",
    "    for team in teams:\n",
    "        double_count += 1\n",
    "        if(double_count > 32):\n",
    "            break\n",
    "        if(team.text == 'Team' or 'Conference' in team.text):\n",
    "            continue\n",
    "        wins = int(team.parent.find('td', {'data-stat':'wins'}).text)\n",
    "     \n",
    "        team_name = repr(team.text).replace('\\\\x','*').split('*')[0].strip(\"'\")\n",
    "        for a in team.find_all('a',href=True):\n",
    "            new_row = get_team_row(all_def,all_nba_team,season_awards,allst_roster,team_name,a['href'], i, wins)\n",
    "            data.loc[row_num] = new_row\n",
    "            row_num += 1\n"
   ]
  },
  {
   "cell_type": "code",
   "execution_count": null,
   "metadata": {
    "collapsed": false
   },
   "outputs": [],
   "source": [
    "# Some franchises have changed names. They still inherit the history of the prior team\n",
    "name_changes = [['Rockets', 'Houston Rockets'], ['Lakers', 'Los Angeles Lakers'], ['Jazz', 'Utah Jazz'],\n",
    "                ['Hawks', 'Atlanta Hawks'], ['Clippers', 'Los Angeles Clippers'], ['Grizzlies', 'Memphis Grizzlies'],\n",
    "                ['SuperSonics', 'Oklahoma City Thunder'], ['Kings', 'Sacramento Kings'], \n",
    "                ['Royals', 'Sacramento Kings'], ['Zephyrs', 'Washington Wizards'],\n",
    "                ['Bobcats', 'Charlotte Hornets'], ['Warriors', 'Golden State Warriors'],\n",
    "                ['New Orleans', 'New Orleans Pelicans'], ['Syracuse', 'Philadelphia 76ers'],\n",
    "                ['Nets','Brooklyn Nets'], ['Bullets', 'Washington Wizards'], \n",
    "                ['Buffalo', 'Los Angeles Clippers'], ['Packers', 'Washington Wizards'] ]\n",
    "for name_change in name_changes:\n",
    "    data.ix[data.Team.str.contains(name_change[0]), 'Team'] = name_change[1]\n",
    "\n"
   ]
  },
  {
   "cell_type": "code",
   "execution_count": null,
   "metadata": {
    "collapsed": true
   },
   "outputs": [],
   "source": [
    "# Column to collect all the accolades a team has. \n",
    "data['Accolades'] = (data['MVP'] + data['Scoring Leader'] + data['Rebound Leader'] + data['Assist Leader']\n",
    "                     + data['WS Leader'] + data['DPOY'] + data['MIP'] + data['6MOY'] + data['Coach of Year']\n",
    "                     + data['All-Stars'] + data['All-Defensive'] + data['All-NBA'])\n",
    "data['Franchise ID'] = data['Team'].str.split().str[-1]"
   ]
  },
  {
   "cell_type": "code",
   "execution_count": null,
   "metadata": {
    "collapsed": false
   },
   "outputs": [],
   "source": [
    "data"
   ]
  },
  {
   "cell_type": "code",
   "execution_count": null,
   "metadata": {
    "collapsed": true
   },
   "outputs": [],
   "source": [
    "data.to_csv('nba_data.csv')"
   ]
  },
  {
   "cell_type": "markdown",
   "metadata": {},
   "source": [
    "### Clean player data file and add full team names"
   ]
  },
  {
   "cell_type": "code",
   "execution_count": null,
   "metadata": {
    "collapsed": false
   },
   "outputs": [],
   "source": [
    "player_data = pd.read_csv('player_data.csv')\n",
    "player_data = player_data[player_data.Player != '0'].fillna(0)"
   ]
  },
  {
   "cell_type": "code",
   "execution_count": null,
   "metadata": {
    "collapsed": false
   },
   "outputs": [],
   "source": [
    "shorts = [['CHI', 'Chicago Bulls'], ['NOJ', 'Utah Jazz'], ['NYK', 'New York Knicks'],\n",
    "          ['NJN', 'Brooklyn Nets'], ['DEN', 'Denver Nuggets'], ['LAL', 'Los Angeles Lakers'],\n",
    "          ['CLE', 'Cleveland Cavaliers'], ['SAS', 'San Antonio Spurs'], ['UTA', 'Utah Jazz'],\n",
    "          ['TOR', 'Toronto Raptors'], ['HOU' ,'Houston Rockets'], ['LAC', 'Los Angeles Clippers'],\n",
    "          ['DAL', 'Dallas Mavericks'], ['BUF', 'Los Angeles Clippers'], ['BOS' ,'Boston Celtics'],\n",
    "          ['NOP', 'New Orleans Pelicans'], ['MIN', 'Minnesota Timberwolves'], ['ATL', 'Atlanta Hawks'],\n",
    "          ['KCK', 'Sacramento Kings'], ['SAC', 'Sacramento Kings'], ['GSW', 'Golden State Warriors'],\n",
    "          ['DET', 'Detroit Pistons'], ['MIA', 'Miami Heat'], ['OKC', 'Oklahoma City Thunder'],\n",
    "          ['MEM', 'Memphis Grizzlies'], ['IND', 'Indiana Pacers'], ['PHI', 'Philadelphia 76ers'],\n",
    "          ['ORL', 'Orlando Magic'], ['CHA', 'Charlotte Hornets'], ['WSB', 'Washington Wizards'],\n",
    "          ['SEA', 'Oklahoma City Thunder'], ['CHH', 'Charlotte Hornets'], ['VAN', 'Memphis Grizzlies'],\n",
    "          ['WAS', 'Washington Wizards'], ['BRK', 'Brooklyn Nets'], ['MIL', 'Milwaukee Bucks'],\n",
    "          ['NOH', 'New Orleans Pelicans'], ['NOK', 'New Orleans Pelicans'], ['SDC', 'Los Angeles Clippers'],\n",
    "          ['CHO', 'Charlotte Hornets'], ['POR', 'Portland Trailblazers'], ['PHO', 'Phoenix Suns']\n",
    "    ]\n",
    "         \n",
    "for short in shorts:\n",
    "    player_data.ix[player_data.Team.str.contains(short[0]), 'Team'] = short[1]"
   ]
  },
  {
   "cell_type": "code",
   "execution_count": null,
   "metadata": {
    "collapsed": false
   },
   "outputs": [],
   "source": [
    "player_data.Team.unique()"
   ]
  },
  {
   "cell_type": "code",
   "execution_count": null,
   "metadata": {
    "collapsed": false
   },
   "outputs": [],
   "source": [
    "player_data"
   ]
  },
  {
   "cell_type": "code",
   "execution_count": null,
   "metadata": {
    "collapsed": true
   },
   "outputs": [],
   "source": [
    "player_data.to_csv('player_data_clean.csv')"
   ]
  },
  {
   "cell_type": "code",
   "execution_count": null,
   "metadata": {
    "collapsed": true
   },
   "outputs": [],
   "source": []
  }
 ],
 "metadata": {
  "kernelspec": {
   "display_name": "Python 3",
   "language": "python",
   "name": "python3"
  },
  "language_info": {
   "codemirror_mode": {
    "name": "ipython",
    "version": 3
   },
   "file_extension": ".py",
   "mimetype": "text/x-python",
   "name": "python",
   "nbconvert_exporter": "python",
   "pygments_lexer": "ipython3",
   "version": "3.5.2"
  }
 },
 "nbformat": 4,
 "nbformat_minor": 1
}
