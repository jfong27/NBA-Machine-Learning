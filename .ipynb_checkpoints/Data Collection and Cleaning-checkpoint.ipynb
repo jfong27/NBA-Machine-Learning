{
 "cells": [
  {
   "cell_type": "code",
<<<<<<< HEAD
   "execution_count": 2,
=======
   "execution_count": 1,
>>>>>>> 5bffadd84c8ab36b699d6f2676dee118a358d30c
   "metadata": {
    "collapsed": true
   },
   "outputs": [],
   "source": [
    "import pandas as pd\n",
    "import requests\n",
    "import time\n",
<<<<<<< HEAD
    "import re\n",
    "import numpy as np\n",
=======
>>>>>>> 5bffadd84c8ab36b699d6f2676dee118a358d30c
    "from bs4 import BeautifulSoup\n",
    "from sklearn.linear_model import LinearRegression"
   ]
  },
  {
   "cell_type": "code",
<<<<<<< HEAD
   "execution_count": 3,
=======
   "execution_count": 2,
>>>>>>> 5bffadd84c8ab36b699d6f2676dee118a358d30c
   "metadata": {
    "collapsed": false
   },
   "outputs": [
    {
     "data": {
      "text/html": [
       "<div>\n",
       "<table border=\"1\" class=\"dataframe\">\n",
       "  <thead>\n",
       "    <tr style=\"text-align: right;\">\n",
       "      <th></th>\n",
       "      <th>Name</th>\n",
       "      <th>Year</th>\n",
<<<<<<< HEAD
       "      <th>Wins</th>\n",
=======
>>>>>>> 5bffadd84c8ab36b699d6f2676dee118a358d30c
       "      <th>Champion</th>\n",
       "      <th>MVP</th>\n",
       "      <th>Scoring Leader</th>\n",
       "      <th>Rebound Leader</th>\n",
       "      <th>Assist Leader</th>\n",
       "      <th>WS Leader</th>\n",
       "      <th>DPOY</th>\n",
       "      <th>MIP</th>\n",
<<<<<<< HEAD
       "      <th>6MOY</th>\n",
       "      <th>Coach of Year</th>\n",
=======
       "      <th>...</th>\n",
       "      <th>FT%</th>\n",
       "      <th>PPG</th>\n",
       "      <th>TOV</th>\n",
       "      <th>AST</th>\n",
       "      <th>STL</th>\n",
       "      <th>BLKSEED</th>\n",
       "      <th>WINS</th>\n",
       "      <th>GOAT Factor</th>\n",
       "      <th>Coach</th>\n",
       "      <th>Overall Team Score</th>\n",
>>>>>>> 5bffadd84c8ab36b699d6f2676dee118a358d30c
       "    </tr>\n",
       "  </thead>\n",
       "  <tbody>\n",
       "  </tbody>\n",
       "</table>\n",
<<<<<<< HEAD
=======
       "<p>0 rows × 26 columns</p>\n",
>>>>>>> 5bffadd84c8ab36b699d6f2676dee118a358d30c
       "</div>"
      ],
      "text/plain": [
       "Empty DataFrame\n",
<<<<<<< HEAD
       "Columns: [Name, Year, Wins, Champion, MVP, Scoring Leader, Rebound Leader, Assist Leader, WS Leader, DPOY, MIP, 6MOY, Coach of Year]\n",
       "Index: []"
      ]
     },
     "execution_count": 3,
=======
       "Columns: [Name, Year, Champion, MVP, Scoring Leader, Rebound Leader, Assist Leader, WS Leader, DPOY, MIP, 6MOY, All-Stars, All-NBA, FG%, 3P%, 2P%, FT%, PPG, TOV, AST, STL, BLKSEED, WINS, GOAT Factor, Coach, Overall Team Score]\n",
       "Index: []\n",
       "\n",
       "[0 rows x 26 columns]"
      ]
     },
     "execution_count": 2,
>>>>>>> 5bffadd84c8ab36b699d6f2676dee118a358d30c
     "metadata": {},
     "output_type": "execute_result"
    }
   ],
   "source": [
<<<<<<< HEAD
    "data = pd.DataFrame(columns= ['Name', 'Year','Wins','Champion','MVP','Scoring Leader', \n",
    "                              'Rebound Leader', 'Assist Leader', 'WS Leader','DPOY',\n",
    "                              'MIP', '6MOY', 'Coach of Year'#'All-Stars', 'All-NBA',\n",
    "                              #'All-Defensive', FG%', '3P%', \n",
    "                              #'2P%', 'FT%', 'PPG', 'TOV', 'AST', 'STL', 'BLK' \n",
    "                              #'SEED', 'GOAT Factor', 'Coach', 'Overall Team Score' \n",
    "                             ])\n",
=======
    "data = pd.DataFrame(columns= ['Name', 'Year','Champion','MVP','Scoring Leader',\n",
    "                              'Rebound Leader', 'Assist Leader', 'WS Leader','DPOY',\n",
    "                              'MIP', '6MOY', 'All-Stars', 'All-NBA', 'FG%', '3P%', \n",
    "                              '2P%', 'FT%', 'PPG', 'TOV', 'AST', 'STL', 'BLK' \n",
    "                              'SEED', 'WINS', 'GOAT Factor', 'Coach', 'Overall Team Score' ])\n",
>>>>>>> 5bffadd84c8ab36b699d6f2676dee118a358d30c
    "data"
   ]
  },
  {
   "cell_type": "code",
<<<<<<< HEAD
   "execution_count": 4,
=======
   "execution_count": 3,
>>>>>>> 5bffadd84c8ab36b699d6f2676dee118a358d30c
   "metadata": {
    "collapsed": false
   },
   "outputs": [],
   "source": [
    "def check_roster(team_soup, season_awards):\n",
<<<<<<< HEAD
    "    awards = [0,0,0,0,0,0,0,0,0]\n",
    "    players = team_soup.find_all('td', {'class':'left', 'data-stat':'player'})\n",
    "    roster = [player.text for player in players]\n",
    "    coach = roster.append(team_soup.find(text=re.compile('Coach:')).parent.parent.find('a').text)\n",
    "\n",
    " \n",
    "    for i in range(9):\n",
=======
    "    awards = [0,0,0,0,0,0,0,0]\n",
    "    players = team_soup.find_all('td', {'class':'left', 'data-stat':'player'})\n",
    "    roster = [player.text for player in players]\n",
    "    \n",
    "    for i in range(5):\n",
>>>>>>> 5bffadd84c8ab36b699d6f2676dee118a358d30c
    "        if season_awards[i] in roster:\n",
    "            awards[i] = 1\n",
    "    \n",
    "    return awards"
   ]
  },
  {
   "cell_type": "code",
<<<<<<< HEAD
   "execution_count": 5,
=======
   "execution_count": 4,
>>>>>>> 5bffadd84c8ab36b699d6f2676dee118a358d30c
   "metadata": {
    "collapsed": false
   },
   "outputs": [],
   "source": [
<<<<<<< HEAD
    "def get_team_row(season_awards, name, team_url, year, wins):\n",
    "    row = []\n",
    "    row.append(name.replace('*',''))\n",
    "    row.append(year)\n",
    "    row.append(wins)\n",
=======
    "def get_team_score(season_awards, name, team_url, year):\n",
    "    row = []\n",
    "    row.append(name.replace('*',''))\n",
    "    row.append(year)\n",
>>>>>>> 5bffadd84c8ab36b699d6f2676dee118a358d30c
    "    \n",
    "    roster = []\n",
    "    \n",
    "    url = 'http://www.basketball-reference.com' + team_url\n",
    "    req = requests.get(url)\n",
    "    time.sleep(0.1)\n",
    "    team_soup = BeautifulSoup(req.text, 'html.parser')\n",
    "    try:\n",
    "        row.append(team_soup.find('br').text[:4] == 'Won ')\n",
    "    except:\n",
    "        row.append(False)\n",
    "    row += check_roster(team_soup, season_awards)\n",
<<<<<<< HEAD
    "    \n",
=======
>>>>>>> 5bffadd84c8ab36b699d6f2676dee118a358d30c
    "    return row"
   ]
  },
  {
   "cell_type": "code",
<<<<<<< HEAD
   "execution_count": 6,
   "metadata": {
    "collapsed": false
   },
   "outputs": [],
   "source": [
    "leaders = ['Most Valuable Player', 'PPG Leader', 'RPG Leader',\n",
    "           'APG Leader', 'WS Leader']\n",
    "\n",
    "awards = ['Defensive Player of the Year', 'Most Improved Player', \n",
    "          'Sixth Man of the Year', 'Coach of the Year']\n",
    "winners = []\n",
    "\n",
    "def get_award_winners(season, year):\n",
    "    for leader in leaders:\n",
    "        winners.append(season.body.find(text=leader).parent.parent.find('a').text)\n",
    "\n",
    "    #Using a different site that's more convenient to scrape other awards.\n",
    "    year_string = '%s' % str(year)\n",
    "    next_year = '%s' % str(year+1)\n",
    "    year = '%s-%s' % (year_string, next_year[2:4])\n",
    "    for award in awards:\n",
    "        url = 'http://www.nba.com/history/%s-award/' %(award.lower().replace(' ', '-'))\n",
    "        req = requests.get(url)\n",
    "        soup = BeautifulSoup(req.text, 'html.parser')\n",
    "\n",
    "        table = soup.find('table')    \n",
    "        try:\n",
    "            winners.append(table.find(text=re.compile(year)).parent.parent.find_all('td')[1].text.strip())\n",
    "        except:\n",
    "            winners.append('')\n",
    "    \n",
    "    return winners "
   ]
  },
  {
   "cell_type": "code",
   "execution_count": 7,
   "metadata": {
    "collapsed": true
   },
   "outputs": [],
   "source": [
    "# Append all_stars rosters to list\n",
    "def get_allstar_players(year):\n",
    "    year_string = '%s' % str(year)\n",
    "    url = \"http://www.basketball-reference.com/allstar/NBA_%s.html/\" %year_string\n",
    "    req = requests.get(url)\n",
    "    allstar = BeautifulSoup(req.text, 'html.parser')\n",
    "    count1 = 0\n",
    "    count2 = 0\n",
    "    \n",
    "    for row in allstar.find(\"div\", {\"id\" : \"all_East\"}).find_all(\"th\", {\"class\" : \"left\", \"scope\" : \"row\", \"csk\" : True}):\n",
    "        all_stars_East.append(row.find(\"a\").text)   \n",
    "        count1 += 1\n",
    "        \n",
    "    if count1 != 14:\n",
    "        for i in range(count1, 14):\n",
    "            all_stars_East.append(\"\")\n",
    "            count1 += 1\n",
    "        \n",
    "    for row in allstar.find(\"div\", {\"id\" : \"all_West\"}).find_all(\"th\", {\"class\" : \"left\", \"scope\" : \"row\", \"csk\" : True}):\n",
    "        all_stars_West.append(row.find(\"a\").text)\n",
    "        count2 += 1\n",
    "    \n",
    "    #print(all_stars_East), print(count1), print(all_stars_West), print(count2)\n",
    "    if count2 != 14:\n",
    "        for i in range(count2, 14):\n",
    "            all_stars_West.append(\"\")\n",
    "            count2 += 1"
   ]
  },
  {
   "cell_type": "code",
   "execution_count": 8,
   "metadata": {
    "collapsed": false
   },
   "outputs": [],
   "source": [
    "years = np.arange(1965, 2017)\n",
    "index_to_be_delete = 1999 - 1965\n",
    "years = np.delete(years, index_to_be_delete)\n",
    "reversed_year = years[::-1]"
   ]
  },
  {
   "cell_type": "code",
   "execution_count": 28,
   "metadata": {
    "collapsed": false
   },
   "outputs": [
    {
     "name": "stdout",
     "output_type": "stream",
     "text": [
      "2015\n",
      "2014\n",
      "2013\n",
      "2012\n",
      "2011\n",
      "2010\n",
      "2009\n",
      "2008\n",
      "2007\n",
      "2006\n",
      "2005\n",
      "2004\n",
      "2003\n",
      "2002\n",
      "2001\n",
      "2000\n",
      "1998\n",
      "1997\n",
      "1996\n",
      "1995\n",
      "1994\n",
      "1993\n",
      "1992\n",
      "1991\n",
      "1990\n",
      "1989\n",
      "1988\n",
      "1987\n",
      "1986\n",
      "1985\n",
      "1984\n",
      "1983\n",
      "1982\n",
      "1981\n",
      "1980\n",
      "1979\n",
      "1978\n",
      "1977\n",
      "1976\n",
      "1975\n",
      "1974\n",
      "1973\n",
      "1972\n",
      "1971\n",
      "1970\n",
      "1969\n",
      "1968\n",
      "1967\n",
      "1966\n",
      "1965\n"
     ]
    }
   ],
   "source": [
    "num_players = [\"Player 1\", \"Player 2\", \"Player 3\", \"Player 4\", \"Player 5\", \"Player 6\", \"Player 7\", \"Player 8\", \"Player 9\", \n",
    "              \"Player 10\", \"Player 11\", \"Player 12\" , \"Player 13\", \"Player 14\"]\n",
    "east = pd.DataFrame(columns=num_players, index = reversed_year).fillna(\"\")\n",
    "west = pd.DataFrame(columns=num_players, index = reversed_year).fillna(\"\")\n",
    "row = 0\n",
    "\n",
    "for i in reversed_year:\n",
    "    all_stars_East = []\n",
    "    all_stars_West = []\n",
    "    #print(i)\n",
    "    get_allstar_players(i)\n",
    "    time.sleep(0.2)\n",
    "\n",
    "    east.loc[i, :] = all_stars_East\n",
    "    west.loc[i, :] = all_stars_West\n",
    "\n",
    "    row += 1"
   ]
  },
  {
   "cell_type": "code",
   "execution_count": 38,
   "metadata": {
    "collapsed": true
   },
   "outputs": [],
   "source": [
    "num_defends = [\"Player 1\", \"Player 2\", \"Player 3\", \"Player 4\", \"Player 5\"]\n",
    "years_array = []\n",
    "\n",
    "for year in range(2015,1967,-1):\n",
    "    year_string = '%s' % str(year)\n",
    "    next_year = '%s' % str(year+1)\n",
    "    year = '%s-%s' % (year_string, next_year[2:4])\n",
    "    years_array.append(year)\n",
    "    \n",
    "df_alldefend = pd.DataFrame(columns = num_defends, index = years_array).fillna(\"\")"
   ]
  },
  {
   "cell_type": "code",
   "execution_count": 20,
=======
   "execution_count": 5,
>>>>>>> 5bffadd84c8ab36b699d6f2676dee118a358d30c
   "metadata": {
    "collapsed": true
   },
   "outputs": [],
   "source": [
<<<<<<< HEAD
    "## Because we need only 1 request to get the whole defensive page, each five players from list is from the First team of a season.\n",
    "\n",
    "def get_defensive():\n",
    "    url = \"http://www.nba.com/history/all-defensive-teams/\"\n",
    "    req = requests.get(url)\n",
    "    defensive = BeautifulSoup(req.text, 'html.parser')\n",
    "    all_defend = []\n",
    "        \n",
    "    ## Get First Team Rosters Only here\n",
    "    for i in defensive.find_all(\"td\" , {\"class\" : \"cnnIEColTxtL\", \"style\" : \"text-align: center\"}):\n",
    "        if i.text == \"First Team\":\n",
    "            continue\n",
    "        else:\n",
    "            all_defend.append(i.text)\n",
    "            \n",
    "    return all_defend\n",
    "\n",
    "list_alldefend = get_defensive()"
=======
    "def get_award_winners(season):\n",
    "    MVP = season.body.find(text='Most Valuable Player').parent.parent.find('a').text\n",
    "    score_champ = season.body.find(text='PPG Leader').parent.parent.find('a').text\n",
    "    rbd_champ = season.body.find(text='RPG Leader').parent.parent.find('a').text\n",
    "    assist_champ = season.body.find(text='APG Leader').parent.parent.find('a').text\n",
    "    ws_leader = season.body.find(text='WS Leader').parent.parent.find('a').text\n",
    "    DPOY = season.body.find(text='Defensive Player of the Year').parent.parent.find('a').text\n",
    "    print(DPOY)\n",
    "\n",
    "    return [MVP,score_champ, rbd_champ, assist_champ, ws_leader]"
>>>>>>> 5bffadd84c8ab36b699d6f2676dee118a358d30c
   ]
  },
  {
   "cell_type": "code",
<<<<<<< HEAD
   "execution_count": 40,
=======
   "execution_count": 6,
>>>>>>> 5bffadd84c8ab36b699d6f2676dee118a358d30c
   "metadata": {
    "collapsed": false
   },
   "outputs": [
    {
<<<<<<< HEAD
     "name": "stdout",
     "output_type": "stream",
     "text": [
      "0\n",
      "1\n",
      "2\n",
      "3\n",
      "4\n",
      "5\n",
      "6\n",
      "7\n",
      "8\n",
      "9\n",
      "10\n",
      "11\n",
      "12\n",
      "13\n",
      "14\n",
      "15\n",
      "16\n",
      "17\n",
      "18\n",
      "19\n",
      "20\n",
      "21\n",
      "22\n",
      "23\n",
      "24\n",
      "25\n",
      "26\n",
      "27\n",
      "28\n",
      "29\n",
      "30\n",
      "31\n",
      "32\n",
      "33\n",
      "34\n",
      "35\n",
      "36\n",
      "37\n",
      "38\n",
      "39\n",
      "40\n",
      "41\n",
      "42\n",
      "43\n",
      "44\n",
      "45\n",
      "46\n",
      "47\n",
      "48\n"
     ]
    },
    {
     "ename": "ValueError",
     "evalue": "cannot copy sequence with size 2 to array axis with dimension 5",
     "output_type": "error",
     "traceback": [
      "\u001b[0;31m---------------------------------------------------------------------------\u001b[0m",
      "\u001b[0;31mValueError\u001b[0m                                Traceback (most recent call last)",
      "\u001b[0;32m<ipython-input-40-0a159e460837>\u001b[0m in \u001b[0;36m<module>\u001b[0;34m()\u001b[0m\n\u001b[1;32m      4\u001b[0m     \u001b[1;31m#print(i)\u001b[0m\u001b[1;33m\u001b[0m\u001b[1;33m\u001b[0m\u001b[0m\n\u001b[1;32m      5\u001b[0m     \u001b[0mprint\u001b[0m\u001b[1;33m(\u001b[0m\u001b[0mrow\u001b[0m\u001b[1;33m)\u001b[0m\u001b[1;33m\u001b[0m\u001b[0m\n\u001b[0;32m----> 6\u001b[0;31m     \u001b[0mdf_alldefend\u001b[0m\u001b[1;33m.\u001b[0m\u001b[0mloc\u001b[0m\u001b[1;33m[\u001b[0m\u001b[0mrow\u001b[0m\u001b[1;33m,\u001b[0m \u001b[1;33m:\u001b[0m\u001b[1;33m]\u001b[0m \u001b[1;33m=\u001b[0m \u001b[0mlist_alldefend\u001b[0m\u001b[1;33m[\u001b[0m\u001b[0mi\u001b[0m\u001b[1;33m:\u001b[0m \u001b[1;33m(\u001b[0m\u001b[0mi\u001b[0m\u001b[1;33m+\u001b[0m\u001b[1;36m5\u001b[0m\u001b[1;33m)\u001b[0m\u001b[1;33m]\u001b[0m\u001b[1;33m\u001b[0m\u001b[0m\n\u001b[0m\u001b[1;32m      7\u001b[0m     \u001b[0mrow\u001b[0m \u001b[1;33m+=\u001b[0m \u001b[1;36m1\u001b[0m\u001b[1;33m\u001b[0m\u001b[0m\n\u001b[1;32m      8\u001b[0m \u001b[1;33m\u001b[0m\u001b[0m\n",
      "\u001b[0;32mC:\\Users\\text\\Anaconda3\\lib\\site-packages\\pandas\\core\\indexing.py\u001b[0m in \u001b[0;36m__setitem__\u001b[0;34m(self, key, value)\u001b[0m\n\u001b[1;32m    139\u001b[0m             \u001b[0mkey\u001b[0m \u001b[1;33m=\u001b[0m \u001b[0mcom\u001b[0m\u001b[1;33m.\u001b[0m\u001b[0m_apply_if_callable\u001b[0m\u001b[1;33m(\u001b[0m\u001b[0mkey\u001b[0m\u001b[1;33m,\u001b[0m \u001b[0mself\u001b[0m\u001b[1;33m.\u001b[0m\u001b[0mobj\u001b[0m\u001b[1;33m)\u001b[0m\u001b[1;33m\u001b[0m\u001b[0m\n\u001b[1;32m    140\u001b[0m         \u001b[0mindexer\u001b[0m \u001b[1;33m=\u001b[0m \u001b[0mself\u001b[0m\u001b[1;33m.\u001b[0m\u001b[0m_get_setitem_indexer\u001b[0m\u001b[1;33m(\u001b[0m\u001b[0mkey\u001b[0m\u001b[1;33m)\u001b[0m\u001b[1;33m\u001b[0m\u001b[0m\n\u001b[0;32m--> 141\u001b[0;31m         \u001b[0mself\u001b[0m\u001b[1;33m.\u001b[0m\u001b[0m_setitem_with_indexer\u001b[0m\u001b[1;33m(\u001b[0m\u001b[0mindexer\u001b[0m\u001b[1;33m,\u001b[0m \u001b[0mvalue\u001b[0m\u001b[1;33m)\u001b[0m\u001b[1;33m\u001b[0m\u001b[0m\n\u001b[0m\u001b[1;32m    142\u001b[0m \u001b[1;33m\u001b[0m\u001b[0m\n\u001b[1;32m    143\u001b[0m     \u001b[1;32mdef\u001b[0m \u001b[0m_has_valid_type\u001b[0m\u001b[1;33m(\u001b[0m\u001b[0mself\u001b[0m\u001b[1;33m,\u001b[0m \u001b[0mk\u001b[0m\u001b[1;33m,\u001b[0m \u001b[0maxis\u001b[0m\u001b[1;33m)\u001b[0m\u001b[1;33m:\u001b[0m\u001b[1;33m\u001b[0m\u001b[0m\n",
      "\u001b[0;32mC:\\Users\\text\\Anaconda3\\lib\\site-packages\\pandas\\core\\indexing.py\u001b[0m in \u001b[0;36m_setitem_with_indexer\u001b[0;34m(self, indexer, value)\u001b[0m\n\u001b[1;32m    577\u001b[0m             \u001b[0mself\u001b[0m\u001b[1;33m.\u001b[0m\u001b[0mobj\u001b[0m\u001b[1;33m.\u001b[0m\u001b[0m_consolidate_inplace\u001b[0m\u001b[1;33m(\u001b[0m\u001b[1;33m)\u001b[0m\u001b[1;33m\u001b[0m\u001b[0m\n\u001b[1;32m    578\u001b[0m             self.obj._data = self.obj._data.setitem(indexer=indexer,\n\u001b[0;32m--> 579\u001b[0;31m                                                     value=value)\n\u001b[0m\u001b[1;32m    580\u001b[0m             \u001b[0mself\u001b[0m\u001b[1;33m.\u001b[0m\u001b[0mobj\u001b[0m\u001b[1;33m.\u001b[0m\u001b[0m_maybe_update_cacher\u001b[0m\u001b[1;33m(\u001b[0m\u001b[0mclear\u001b[0m\u001b[1;33m=\u001b[0m\u001b[1;32mTrue\u001b[0m\u001b[1;33m)\u001b[0m\u001b[1;33m\u001b[0m\u001b[0m\n\u001b[1;32m    581\u001b[0m \u001b[1;33m\u001b[0m\u001b[0m\n",
      "\u001b[0;32mC:\\Users\\text\\Anaconda3\\lib\\site-packages\\pandas\\core\\internals.py\u001b[0m in \u001b[0;36msetitem\u001b[0;34m(self, **kwargs)\u001b[0m\n\u001b[1;32m   3166\u001b[0m \u001b[1;33m\u001b[0m\u001b[0m\n\u001b[1;32m   3167\u001b[0m     \u001b[1;32mdef\u001b[0m \u001b[0msetitem\u001b[0m\u001b[1;33m(\u001b[0m\u001b[0mself\u001b[0m\u001b[1;33m,\u001b[0m \u001b[1;33m**\u001b[0m\u001b[0mkwargs\u001b[0m\u001b[1;33m)\u001b[0m\u001b[1;33m:\u001b[0m\u001b[1;33m\u001b[0m\u001b[0m\n\u001b[0;32m-> 3168\u001b[0;31m         \u001b[1;32mreturn\u001b[0m \u001b[0mself\u001b[0m\u001b[1;33m.\u001b[0m\u001b[0mapply\u001b[0m\u001b[1;33m(\u001b[0m\u001b[1;34m'setitem'\u001b[0m\u001b[1;33m,\u001b[0m \u001b[1;33m**\u001b[0m\u001b[0mkwargs\u001b[0m\u001b[1;33m)\u001b[0m\u001b[1;33m\u001b[0m\u001b[0m\n\u001b[0m\u001b[1;32m   3169\u001b[0m \u001b[1;33m\u001b[0m\u001b[0m\n\u001b[1;32m   3170\u001b[0m     \u001b[1;32mdef\u001b[0m \u001b[0mputmask\u001b[0m\u001b[1;33m(\u001b[0m\u001b[0mself\u001b[0m\u001b[1;33m,\u001b[0m \u001b[1;33m**\u001b[0m\u001b[0mkwargs\u001b[0m\u001b[1;33m)\u001b[0m\u001b[1;33m:\u001b[0m\u001b[1;33m\u001b[0m\u001b[0m\n",
      "\u001b[0;32mC:\\Users\\text\\Anaconda3\\lib\\site-packages\\pandas\\core\\internals.py\u001b[0m in \u001b[0;36mapply\u001b[0;34m(self, f, axes, filter, do_integrity_check, consolidate, **kwargs)\u001b[0m\n\u001b[1;32m   3054\u001b[0m \u001b[1;33m\u001b[0m\u001b[0m\n\u001b[1;32m   3055\u001b[0m             \u001b[0mkwargs\u001b[0m\u001b[1;33m[\u001b[0m\u001b[1;34m'mgr'\u001b[0m\u001b[1;33m]\u001b[0m \u001b[1;33m=\u001b[0m \u001b[0mself\u001b[0m\u001b[1;33m\u001b[0m\u001b[0m\n\u001b[0;32m-> 3056\u001b[0;31m             \u001b[0mapplied\u001b[0m \u001b[1;33m=\u001b[0m \u001b[0mgetattr\u001b[0m\u001b[1;33m(\u001b[0m\u001b[0mb\u001b[0m\u001b[1;33m,\u001b[0m \u001b[0mf\u001b[0m\u001b[1;33m)\u001b[0m\u001b[1;33m(\u001b[0m\u001b[1;33m**\u001b[0m\u001b[0mkwargs\u001b[0m\u001b[1;33m)\u001b[0m\u001b[1;33m\u001b[0m\u001b[0m\n\u001b[0m\u001b[1;32m   3057\u001b[0m             \u001b[0mresult_blocks\u001b[0m \u001b[1;33m=\u001b[0m \u001b[0m_extend_blocks\u001b[0m\u001b[1;33m(\u001b[0m\u001b[0mapplied\u001b[0m\u001b[1;33m,\u001b[0m \u001b[0mresult_blocks\u001b[0m\u001b[1;33m)\u001b[0m\u001b[1;33m\u001b[0m\u001b[0m\n\u001b[1;32m   3058\u001b[0m \u001b[1;33m\u001b[0m\u001b[0m\n",
      "\u001b[0;32mC:\\Users\\text\\Anaconda3\\lib\\site-packages\\pandas\\core\\internals.py\u001b[0m in \u001b[0;36msetitem\u001b[0;34m(self, indexer, value, mgr)\u001b[0m\n\u001b[1;32m    738\u001b[0m             \u001b[1;31m# set\u001b[0m\u001b[1;33m\u001b[0m\u001b[1;33m\u001b[0m\u001b[0m\n\u001b[1;32m    739\u001b[0m             \u001b[1;32melse\u001b[0m\u001b[1;33m:\u001b[0m\u001b[1;33m\u001b[0m\u001b[0m\n\u001b[0;32m--> 740\u001b[0;31m                 \u001b[0mvalues\u001b[0m\u001b[1;33m[\u001b[0m\u001b[0mindexer\u001b[0m\u001b[1;33m]\u001b[0m \u001b[1;33m=\u001b[0m \u001b[0mvalue\u001b[0m\u001b[1;33m\u001b[0m\u001b[0m\n\u001b[0m\u001b[1;32m    741\u001b[0m \u001b[1;33m\u001b[0m\u001b[0m\n\u001b[1;32m    742\u001b[0m             \u001b[1;31m# coerce and try to infer the dtypes of the result\u001b[0m\u001b[1;33m\u001b[0m\u001b[1;33m\u001b[0m\u001b[0m\n",
      "\u001b[0;31mValueError\u001b[0m: cannot copy sequence with size 2 to array axis with dimension 5"
=======
     "ename": "AttributeError",
     "evalue": "'NoneType' object has no attribute 'parent'",
     "output_type": "error",
     "traceback": [
      "\u001b[0;31m---------------------------------------------------------------------------\u001b[0m",
      "\u001b[0;31mAttributeError\u001b[0m                            Traceback (most recent call last)",
      "\u001b[0;32m<ipython-input-6-fdd8d2f56bff>\u001b[0m in \u001b[0;36m<module>\u001b[0;34m()\u001b[0m\n\u001b[1;32m      6\u001b[0m     \u001b[0mteams\u001b[0m \u001b[0;34m=\u001b[0m \u001b[0mseason\u001b[0m\u001b[0;34m.\u001b[0m\u001b[0mfind_all\u001b[0m\u001b[0;34m(\u001b[0m\u001b[0;34m'th'\u001b[0m\u001b[0;34m,\u001b[0m \u001b[0;34m{\u001b[0m\u001b[0;34m'class'\u001b[0m\u001b[0;34m:\u001b[0m \u001b[0;34m'left'\u001b[0m\u001b[0;34m,\u001b[0m \u001b[0;34m'data-stat'\u001b[0m\u001b[0;34m:\u001b[0m\u001b[0;34m'team_name'\u001b[0m\u001b[0;34m}\u001b[0m\u001b[0;34m)\u001b[0m\u001b[0;34m\u001b[0m\u001b[0m\n\u001b[1;32m      7\u001b[0m \u001b[0;34m\u001b[0m\u001b[0m\n\u001b[0;32m----> 8\u001b[0;31m     \u001b[0mseason_awards\u001b[0m \u001b[0;34m=\u001b[0m \u001b[0mget_award_winners\u001b[0m\u001b[0;34m(\u001b[0m\u001b[0mseason\u001b[0m\u001b[0;34m)\u001b[0m\u001b[0;34m\u001b[0m\u001b[0m\n\u001b[0m\u001b[1;32m      9\u001b[0m     \u001b[0mprint\u001b[0m\u001b[0;34m(\u001b[0m\u001b[0mseason_awards\u001b[0m\u001b[0;34m)\u001b[0m\u001b[0;34m\u001b[0m\u001b[0m\n\u001b[1;32m     10\u001b[0m     \u001b[0;32mfor\u001b[0m \u001b[0mteam\u001b[0m \u001b[0;32min\u001b[0m \u001b[0mteams\u001b[0m\u001b[0;34m:\u001b[0m\u001b[0;34m\u001b[0m\u001b[0m\n",
      "\u001b[0;32m<ipython-input-5-c8a4639bc5f4>\u001b[0m in \u001b[0;36mget_award_winners\u001b[0;34m(season)\u001b[0m\n\u001b[1;32m      5\u001b[0m     \u001b[0massist_champ\u001b[0m \u001b[0;34m=\u001b[0m \u001b[0mseason\u001b[0m\u001b[0;34m.\u001b[0m\u001b[0mbody\u001b[0m\u001b[0;34m.\u001b[0m\u001b[0mfind\u001b[0m\u001b[0;34m(\u001b[0m\u001b[0mtext\u001b[0m\u001b[0;34m=\u001b[0m\u001b[0;34m'APG Leader'\u001b[0m\u001b[0;34m)\u001b[0m\u001b[0;34m.\u001b[0m\u001b[0mparent\u001b[0m\u001b[0;34m.\u001b[0m\u001b[0mparent\u001b[0m\u001b[0;34m.\u001b[0m\u001b[0mfind\u001b[0m\u001b[0;34m(\u001b[0m\u001b[0;34m'a'\u001b[0m\u001b[0;34m)\u001b[0m\u001b[0;34m.\u001b[0m\u001b[0mtext\u001b[0m\u001b[0;34m\u001b[0m\u001b[0m\n\u001b[1;32m      6\u001b[0m     \u001b[0mws_leader\u001b[0m \u001b[0;34m=\u001b[0m \u001b[0mseason\u001b[0m\u001b[0;34m.\u001b[0m\u001b[0mbody\u001b[0m\u001b[0;34m.\u001b[0m\u001b[0mfind\u001b[0m\u001b[0;34m(\u001b[0m\u001b[0mtext\u001b[0m\u001b[0;34m=\u001b[0m\u001b[0;34m'WS Leader'\u001b[0m\u001b[0;34m)\u001b[0m\u001b[0;34m.\u001b[0m\u001b[0mparent\u001b[0m\u001b[0;34m.\u001b[0m\u001b[0mparent\u001b[0m\u001b[0;34m.\u001b[0m\u001b[0mfind\u001b[0m\u001b[0;34m(\u001b[0m\u001b[0;34m'a'\u001b[0m\u001b[0;34m)\u001b[0m\u001b[0;34m.\u001b[0m\u001b[0mtext\u001b[0m\u001b[0;34m\u001b[0m\u001b[0m\n\u001b[0;32m----> 7\u001b[0;31m     \u001b[0mDPOY\u001b[0m \u001b[0;34m=\u001b[0m \u001b[0mseason\u001b[0m\u001b[0;34m.\u001b[0m\u001b[0mbody\u001b[0m\u001b[0;34m.\u001b[0m\u001b[0mfind\u001b[0m\u001b[0;34m(\u001b[0m\u001b[0mtext\u001b[0m\u001b[0;34m=\u001b[0m\u001b[0;34m'Defensive Player of the Year'\u001b[0m\u001b[0;34m)\u001b[0m\u001b[0;34m.\u001b[0m\u001b[0mparent\u001b[0m\u001b[0;34m.\u001b[0m\u001b[0mparent\u001b[0m\u001b[0;34m.\u001b[0m\u001b[0mfind\u001b[0m\u001b[0;34m(\u001b[0m\u001b[0;34m'a'\u001b[0m\u001b[0;34m)\u001b[0m\u001b[0;34m.\u001b[0m\u001b[0mtext\u001b[0m\u001b[0;34m\u001b[0m\u001b[0m\n\u001b[0m\u001b[1;32m      8\u001b[0m     \u001b[0mprint\u001b[0m\u001b[0;34m(\u001b[0m\u001b[0mDPOY\u001b[0m\u001b[0;34m)\u001b[0m\u001b[0;34m\u001b[0m\u001b[0m\n\u001b[1;32m      9\u001b[0m \u001b[0;34m\u001b[0m\u001b[0m\n",
      "\u001b[0;31mAttributeError\u001b[0m: 'NoneType' object has no attribute 'parent'"
>>>>>>> 5bffadd84c8ab36b699d6f2676dee118a358d30c
     ]
    }
   ],
   "source": [
<<<<<<< HEAD
    "row = 0\n",
    "\n",
    "for i in range(0, len(list_alldefend), 5):\n",
    "    #print(i)\n",
    "    print(row)\n",
    "    df_alldefend.loc[row, :] = list_alldefend[i: (i+5)]\n",
    "    row += 1\n",
    "    "
   ]
  },
  {
   "cell_type": "code",
   "execution_count": 24,
   "metadata": {
    "collapsed": false
   },
   "outputs": [
    {
     "data": {
      "text/plain": [
       "['Kawhi Leonard',\n",
       " 'Draymond Green',\n",
       " 'DeAndre Jordan',\n",
       " 'Avery Bradley',\n",
       " 'Chris Paul']"
      ]
     },
     "execution_count": 24,
     "metadata": {},
     "output_type": "execute_result"
    }
   ],
   "source": [
    "list_alldefend[0:5]"
   ]
  },
  {
   "cell_type": "code",
   "execution_count": null,
   "metadata": {
    "collapsed": false
   },
   "outputs": [],
   "source": [
    "row_num = 0\n",
    "for i in range(1965, 1966):\n",
=======
    "for i in range(1996, 1998):\n",
>>>>>>> 5bffadd84c8ab36b699d6f2676dee118a358d30c
    "    url = ('http://www.basketball-reference.com/leagues/NBA_%s.html' % str(i))\n",
    "    time.sleep(0.1)\n",
    "    req = requests.get(url)\n",
    "    season = BeautifulSoup(req.text, 'html.parser')\n",
    "    teams = season.find_all('th', {'class': 'left', 'data-stat':'team_name'})\n",
    "   \n",
<<<<<<< HEAD
    "    season_awards = get_award_winners(season, i-1)\n",
    "    \n",
    "    as_rosters = get_allstar_players(season, i)\n",
    "    \n",
    "    for team in teams:\n",
    "        if(team.text == 'Team' or 'Conference' in team.text):\n",
    "            continue\n",
    "        wins = int(team.parent.find('td', {'data-stat':'wins'}).text)\n",
    "     \n",
    "        team_name = repr(team.text).replace('\\\\x','*').split('*')[0].lstrip(\"'\")\n",
    "        for a in team.find_all('a',href=True):\n",
    "            new_row = get_team_row(season_awards,team_name,a['href'], i, wins)\n",
    "  \n",
    "            data.loc[row_num] = new_row\n",
    "            row_num += 1\n"
=======
    "    season_awards = get_award_winners(season)\n",
    "    print(season_awards)\n",
    "    for team in teams:\n",
    "        for a in team.find_all('a',href=True):\n",
    "            new_row = get_team_score(season_awards,team.text,a['href'], i)\n",
    "            print(new_row)\n"
>>>>>>> 5bffadd84c8ab36b699d6f2676dee118a358d30c
   ]
  },
  {
   "cell_type": "code",
   "execution_count": null,
   "metadata": {
    "collapsed": true
   },
   "outputs": [],
   "source": []
  }
 ],
 "metadata": {
  "kernelspec": {
   "display_name": "Python 3",
   "language": "python",
   "name": "python3"
  },
  "language_info": {
   "codemirror_mode": {
    "name": "ipython",
    "version": 3
   },
   "file_extension": ".py",
   "mimetype": "text/x-python",
   "name": "python",
   "nbconvert_exporter": "python",
   "pygments_lexer": "ipython3",
<<<<<<< HEAD
   "version": "3.6.0"
=======
   "version": "3.5.2"
>>>>>>> 5bffadd84c8ab36b699d6f2676dee118a358d30c
  }
 },
 "nbformat": 4,
 "nbformat_minor": 1
}
