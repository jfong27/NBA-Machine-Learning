{
 "cells": [
  {
   "cell_type": "code",
   "execution_count": 3,
   "metadata": {
    "collapsed": true
   },
   "outputs": [],
   "source": [
    "import pandas as pd\n",
    "import requests\n",
    "import time\n",
    "import re\n",
    "import numpy as np\n",
    "from bs4 import BeautifulSoup\n",
    "from sklearn.linear_model import LinearRegression\n",
    "\n",
    "#Get the comment straight from request. Then extract the comment (\"<!\"). Use BeautifulSoup on this comment."
   ]
  },
  {
   "cell_type": "code",
   "execution_count": 3,
   "metadata": {
    "collapsed": false
   },
   "outputs": [
    {
     "data": {
      "text/html": [
       "<div>\n",
       "<table border=\"1\" class=\"dataframe\">\n",
       "  <thead>\n",
       "    <tr style=\"text-align: right;\">\n",
       "      <th></th>\n",
       "      <th>Name</th>\n",
       "      <th>Year</th>\n",
       "      <th>Wins</th>\n",
       "      <th>Champion</th>\n",
       "      <th>MVP</th>\n",
       "      <th>Scoring Leader</th>\n",
       "      <th>Rebound Leader</th>\n",
       "      <th>Assist Leader</th>\n",
       "      <th>WS Leader</th>\n",
       "      <th>DPOY</th>\n",
       "      <th>...</th>\n",
       "      <th>2P%</th>\n",
       "      <th>2P AttemptsFT%</th>\n",
       "      <th>PPG</th>\n",
       "      <th>TOVPG</th>\n",
       "      <th>APG</th>\n",
       "      <th>RPG</th>\n",
       "      <th>STL</th>\n",
       "      <th>BLK</th>\n",
       "      <th>FG2A</th>\n",
       "      <th>FG3A</th>\n",
       "    </tr>\n",
       "  </thead>\n",
       "  <tbody>\n",
       "  </tbody>\n",
       "</table>\n",
       "<p>0 rows × 28 columns</p>\n",
       "</div>"
      ],
      "text/plain": [
       "Empty DataFrame\n",
       "Columns: [Name, Year, Wins, Champion, MVP, Scoring Leader, Rebound Leader, Assist Leader, WS Leader, DPOY, MIP, 6MOY, Coach of Year, All-Stars, All-Defensive, FG%, 3P Attempts, 3P%, 2P%, 2P AttemptsFT%, PPG, TOVPG, APG, RPG, STL, BLK, FG2A, FG3A]\n",
       "Index: []\n",
       "\n",
       "[0 rows x 28 columns]"
      ]
     },
     "execution_count": 3,
     "metadata": {},
     "output_type": "execute_result"
    }
   ],
   "source": [
    "data = pd.DataFrame(columns= ['Name', 'Year','Wins','Champion','MVP','Scoring Leader', \n",
    "                              'Rebound Leader', 'Assist Leader', 'WS Leader','DPOY',\n",
    "                              'MIP', '6MOY', 'Coach of Year', 'All-Stars', 'All-Defensive',\n",
    "                              #'All-NBA', \n",
    "                              'FG%','3P Attempts', '3P%', \n",
    "                              '2P%', '2P Attempts' 'FT%', 'PPG', 'TOVPG', 'APG','RPG', 'STL', 'BLK', 'FG2A', 'FG3A' \n",
    "                             ])\n",
    "data"
   ]
  },
  {
   "cell_type": "code",
   "execution_count": 4,
   "metadata": {
    "collapsed": false
   },
   "outputs": [],
   "source": [
    "def check_roster(team_soup, season_awards, allst_roster, all_def):\n",
    "    awards = [0,0,0,0,0,0,0,0,0,0,0]\n",
    "    players = team_soup.find_all('td', {'class':'left', 'data-stat':'player'})\n",
    "    roster = [player.text for player in players]\n",
    "    coach = roster.append(team_soup.find(text=re.compile('Coach:')).parent.parent.find('a').text)\n",
    "    \n",
    "    star_count = 0\n",
    "    all_def_count = 0\n",
    "    for allst in allst_roster:\n",
    "        if allst in roster:\n",
    "            star_count += 1\n",
    " \n",
    "    awards[9] = star_count\n",
    "    for i in range(9):\n",
    "        if season_awards[i] in roster:\n",
    "            awards[i] = 1\n",
    "            \n",
    "    for player in roster:\n",
    "        if player in all_def:\n",
    "            all_def_count +=1 \n",
    "    awards[10] = all_def_count\n",
    "    \n",
    "    return awards"
   ]
  },
  {
   "cell_type": "code",
   "execution_count": 5,
   "metadata": {
    "collapsed": false
   },
   "outputs": [],
   "source": [
    "## Get Team Row\n",
    "def get_team_row(all_def, season_awards, allst_roster, name, team_url, year, wins):\n",
    "    row = []\n",
    "    row.append(name.replace('*',''))\n",
    "    row.append(year)\n",
    "    row.append(wins)\n",
    "    \n",
    "    roster = []\n",
    "    \n",
    "    url = 'http://www.basketball-reference.com' + team_url\n",
    "    req = requests.get(url)\n",
    "    time.sleep(0.1)\n",
    "    team_soup = BeautifulSoup(req.text, 'html.parser')\n",
    "    try:\n",
    "        row.append(team_soup.find('br').text[:4] == 'Won ')\n",
    "    except:\n",
    "        row.append(False)\n",
    "    row += check_roster(team_soup, season_awards, allst_roster,all_def)\n",
    "    \n",
    "    row += get_statline(req.text)\n",
    "    print(row)\n",
    "    \n",
    "    return row"
   ]
  },
  {
   "cell_type": "code",
   "execution_count": 6,
   "metadata": {
    "collapsed": false
   },
   "outputs": [],
   "source": [
    "leaders = ['Most Valuable Player', 'PPG Leader', 'RPG Leader',\n",
    "           'APG Leader', 'WS Leader']\n",
    "\n",
    "awards = ['Defensive Player of the Year', 'Most Improved Player', \n",
    "          'Sixth Man of the Year', 'Coach of the Year']\n",
    "winners = []\n",
    "\n",
    "def get_award_winners(season, year):\n",
    "    for leader in leaders:\n",
    "        winners.append(season.body.find(text=leader).parent.parent.find('a').text)\n",
    "\n",
    "    #Using a different site that's more convenient to scrape other awards.\n",
    "    year_string = '%s' % str(year)\n",
    "    next_year = '%s' % str(year+1)\n",
    "    year = '%s-%s' % (year_string, next_year[2:4])\n",
    "    for award in awards:\n",
    "        url = 'http://www.nba.com/history/%s-award/' %(award.lower().replace(' ', '-'))\n",
    "        req = requests.get(url)\n",
    "        soup = BeautifulSoup(req.text, 'html.parser')\n",
    "\n",
    "        table = soup.find('table')    \n",
    "        try:\n",
    "            winners.append(table.find(text=re.compile(year)).parent.parent.find_all('td')[1].text.strip())\n",
    "        except:\n",
    "            winners.append('')\n",
    "    \n",
    "    return winners"
   ]
  },
  {
   "cell_type": "code",
   "execution_count": 15,
   "metadata": {
    "collapsed": true
   },
   "outputs": [],
   "source": [
    "# Append all_stars rosters to list\n",
    "def get_allstars(year):\n",
    "    url = \"http://www.basketball-reference.com/allstar/NBA_%s.html/\" % str(year)\n",
    "    req = requests.get(url)\n",
    "    soup = BeautifulSoup(req.text, 'html.parser')\n",
    "    all_stars = []\n",
    "    \n",
    "    for row in soup.find(\"div\", {\"id\" : \"all_East\"}).find_all(\"th\", {\"class\" : \"left\", \"scope\" : \"row\", \"csk\" : True}):\n",
    "        all_stars.append(row.find(\"a\").text)\n",
    "        \n",
    "        \n",
    "    for row in soup.find(\"div\", {\"id\" : \"all_West\"}).find_all(\"th\", {\"class\" : \"left\", \"scope\" : \"row\", \"csk\" : True}):\n",
    "        all_stars.append(row.find(\"a\").text)\n",
    "        \n",
    "    return all_stars"
   ]
  },
  {
   "cell_type": "code",
   "execution_count": 11,
   "metadata": {
    "collapsed": true
   },
   "outputs": [],
   "source": [
    "# Because we need only 1 request to get the whole defensive page, each five players from list is from the First team of a season.\n",
    "def get_all_def():\n",
    "    url = \"http://www.nba.com/history/all-defensive-teams/\"\n",
    "    req = requests.get(url)\n",
    "    defensive = BeautifulSoup(req.text, 'html.parser')\n",
    "    all_defense = []\n",
    "    \n",
    "    for i in defensive.find_all(\"td\" , {\"class\" : \"cnnIEColTxtL\", \"style\" : \"text-align: center\"}):\n",
    "        if i.text == \"First Team\":\n",
    "            continue\n",
    "        all_defense.append(i.text)\n",
    "        \n",
    "    for i in defensive.find_all(\"td\" , {\"class\" : \"cnnIEColTxtR\", \"style\" : \"text-align: center\"}):\n",
    "        if i.text == \"Second Team\":\n",
    "            continue\n",
    "        all_defense.append(i.text)\n",
    "    return all_defense"
   ]
  },
  {
   "cell_type": "markdown",
   "metadata": {},
   "source": [
    "- get_all_nba() function: scrape data from the http://www.basketball-reference.com/awards/all_league.html. Get all players from the first team, second team, third team and stores them in a dictionary. The function returns a dictionary with keys as years from 1950-2017. Each keys is a list of 3 lists. "
   ]
  },
  {
   "cell_type": "code",
   "execution_count": 22,
   "metadata": {
    "collapsed": false
   },
   "outputs": [],
   "source": [
    "def get_all_nba():\n",
    "    # Get request\n",
    "    req = requests.get(\"http://www.basketball-reference.com/awards/all_league.html\")\n",
    "    soup = BeautifulSoup(req.text, \"html.parser\")\n",
    "    \n",
    "    # Variables to keep tracks of the difficult parts to parse\n",
    "    j = 0\n",
    "    i = 0\n",
    "    data_stat = 1\n",
    "    \n",
    "    # Initialize variables\n",
    "    prev_year = \"2017\"\n",
    "    dict_allnba = {\n",
    "\n",
    "    }\n",
    "    \n",
    "    players = []\n",
    "\n",
    "    # For-loop \n",
    "    for row in soup.find_all(\"tr\", {\"class\" : False}):\n",
    "        content = row.text\n",
    "        \n",
    "        # Parse year from \"2016-17\" to be in normal format \"2017\"\n",
    "        year = content[:7]\n",
    "        year = year[:2] + year[-2:]\n",
    "        \n",
    "        # Get the league name\n",
    "        league = content[7:10]\n",
    "\n",
    "        if league == \"NBA\":\n",
    "            if ((i == 2) & (year != prev_year)):\n",
    "                dict_allnba[prev_year].append(players)\n",
    "                \n",
    "                data_stat = 1\n",
    "                i = 0\n",
    "                j += 1\n",
    "\n",
    "            if (i == 3):\n",
    "                i = 0\n",
    "                data_stat = 1\n",
    "\n",
    "\n",
    "            # If the row is none, skip it         \n",
    "            if (soup.find_all(\"td\", {\"class\" : \"left\", \"data-stat\" : \"%s\" % str(1)})[j].find(\"a\") == None):\n",
    "                j += 1\n",
    "\n",
    "            # Create a list of players to hold 5 players\n",
    "            players = []   \n",
    "            \n",
    "            # Initialize key\n",
    "            if year not in dict_allnba:\n",
    "                dict_allnba[year] = []\n",
    "            \n",
    "            # Get 5 players each team\n",
    "            for stat in range(data_stat, data_stat + 5):\n",
    "                \n",
    "                try:\n",
    "                    # Append players from second team and third team\n",
    "                    if (stat > 5) & (j != 0): \n",
    "                        new_j = int(j / 2)\n",
    "\n",
    "                        players.append(soup.find_all(\"td\", {\"class\" : \"left\", \"data-stat\" : \"%s\" % str(stat)})[new_j].find(\"a\").text)\n",
    "                    else:\n",
    "                    # Append players from first team\n",
    "                        players.append(soup.find_all(\"td\", {\"class\" : \"left\", \"data-stat\" : \"%s\" % str(stat)})[j].find(\"a\").text)\n",
    "                except:\n",
    "                    pass           \n",
    "                \n",
    "                # Append the team to dictionary\n",
    "                if (stat == 5) | (stat == 10) | (stat == 15):\n",
    "                    dict_allnba[year].append(players)\n",
    "                    players = []\n",
    "\n",
    "            # Increament variables\n",
    "            data_stat += 5\n",
    "            i += 1\n",
    "            prev_year = year\n",
    "\n",
    "            if (data_stat == 16):\n",
    "                data_stat = 1\n",
    "                j += 1\n",
    "        \n",
    "        elif (league == \"ABA\") | (league == \"BAA\") :\n",
    "            j += 1\n",
    "    \n",
    "    dict_allnba[\"2000\"] = dict_allnba.pop(\"1900\")\n",
    "    return dict_allnba"
   ]
  },
  {
   "cell_type": "code",
   "execution_count": 23,
   "metadata": {
    "collapsed": false
   },
   "outputs": [],
   "source": [
    "def get_statline(page_text):\n",
    "    stats = [0,0,0,0,0,0,0,0,0,0,0,0,0]\n",
    "    stat_search = ['fg_pct', 'fg3a', 'fg3_pct', 'fg2a', 'fg2_pct',\n",
    "                   'ft_pct','trb_per_g','ast_per_g','stl_per_g',\n",
    "                   'blk_per_g','tov_per_g','pts_per_g']\n",
    "    \n",
    "    for i in range(len(stat_search)):\n",
    "        indexer = page_text.find('data-stat=\"%s\" >' % (stat_search[i]))\n",
    "        try:\n",
    "            offset = len(stat_search[i]) + 14\n",
    "            stat = re.sub(\"<\", '',page_text[indexer+offset: indexer+offset+4])    \n",
    "            stat = float(stat)\n",
    "        except:\n",
    "            stat = 0\n",
    "        stats[i] = stat\n",
    "    return stats"
   ]
  },
  {
   "cell_type": "code",
   "execution_count": null,
   "metadata": {
    "collapsed": true
   },
   "outputs": [],
   "source": [
    "row_num = 0\n",
    "#all_def = get_all_def()\n",
    "#all_nba = get_all_nba()\n",
    "for i in range(1960,2018):\n",
    "    print(i)\n",
    "    double_count = 0\n",
    "    url = ('http://www.basketball-reference.com/leagues/NBA_%s.html' % str(i))\n",
    "    time.sleep(0.1)\n",
    "    req = requests.get(url)\n",
    "    season = BeautifulSoup(req.text, 'html.parser')\n",
    "    teams = season.find_all('th', {'class': 'left', 'data-stat':'team_name'})\n",
    "   \n",
    "    season_awards = get_award_winners(season, i)\n",
    "    allst_roster = get_allstars(i)\n",
    "    all_nba_team = all_nba[str(i)]\n",
    "    \n",
    "    for team in teams:\n",
    "        double_count += 1\n",
    "        if(double_count > 32):\n",
    "            break\n",
    "        if(team.text == 'Team' or 'Conference' in team.text):\n",
    "            continue\n",
    "        wins = int(team.parent.find('td', {'data-stat':'wins'}).text)\n",
    "     \n",
    "        team_name = repr(team.text).replace('\\\\x','*').split('*')[0].strip(\"'\")\n",
    "        for a in team.find_all('a',href=True):\n",
    "            new_row = get_team_row(all_def,all_nba_team,season_awards,allst_roster,team_name,a['href'], i, wins)\n",
    "            data.loc[row_num] = new_row\n",
    "            row_num += 1\n"
   ]
  },
  {
   "cell_type": "code",
   "execution_count": null,
   "metadata": {
    "collapsed": true
   },
   "outputs": [],
   "source": [
    "name_changes = [['Rockets', 'Houston Rockets'], ['Lakers', 'Los Angeles Lakers'], ['Jazz', 'Utah Jazz'],\n",
    "                ['Hawks', 'Atlanta Hawks'], ['Clippers', 'Los Angeles Clippers'], ['Grizzlies', 'Memphis Grizzlies'],\n",
    "                ['SuperSonics', 'Oklahoma City Thunder'], ['Kings', 'Sacramento Kings'], \n",
    "                ['Royals', 'Sacramento Kings'], ['Zephyrs', 'Washington Wizards'],\n",
    "                ['Bobcats', 'Charlotte Hornets'], ['Warriors', 'Golden State Warriors'],\n",
    "                ['New Orleans', 'New Orleans Pelicans'], ['Syracuse', 'Philadelphia 76ers'],\n",
    "                ['Nets','Brooklyn Nets'], ['Bullets', 'Washington Wizards'], \n",
    "                ['Buffalo', 'Los Angeles Clippers'], ['Packers', 'Washington Wizards'] ]\n",
    "for name_change in name_changes:\n",
    "    data.ix[data.Team.str.contains(name_change[0]), 'Team'] = name_change[1]\n",
    "\n"
   ]
  },
  {
   "cell_type": "code",
   "execution_count": null,
   "metadata": {
    "collapsed": true
   },
   "outputs": [],
   "source": [
    "data['Accolades'] = (data['MVP'] + data['Scoring Leader'] + data['Rebound Leader'] + data['Assist Leader']\n",
    "                     + data['WS Leader'] + data['DPOY'] + data['MIP'] + data['6MOY'] + data['Coach of Year']\n",
    "                     + data['All-Stars'] + data['All-Defensive'] + data['All-NBA'])"
   ]
  },
  {
   "cell_type": "code",
   "execution_count": null,
   "metadata": {
    "collapsed": true
   },
   "outputs": [],
   "source": [
    "data"
   ]
  },
  {
   "cell_type": "code",
   "execution_count": null,
   "metadata": {
    "collapsed": true
   },
   "outputs": [],
   "source": [
    "data.to_csv('nba_data.csv')"
   ]
  }
 ],
 "metadata": {
  "kernelspec": {
   "display_name": "Python 3",
   "language": "python",
   "name": "python3"
  },
  "language_info": {
   "codemirror_mode": {
    "name": "ipython",
    "version": 3
   },
   "file_extension": ".py",
   "mimetype": "text/x-python",
   "name": "python",
   "nbconvert_exporter": "python",
   "pygments_lexer": "ipython3",
   "version": "3.6.0"
  }
 },
 "nbformat": 4,
 "nbformat_minor": 1
}
