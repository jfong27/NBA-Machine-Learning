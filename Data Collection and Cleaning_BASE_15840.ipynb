{
 "cells": [
  {
   "cell_type": "code",
   "execution_count": 1,
   "metadata": {
    "collapsed": true
   },
   "outputs": [],
   "source": [
    "import pandas as pd\n",
    "import requests\n",
    "import time\n",
    "import re\n",
    "import numpy as np\n",
    "from bs4 import BeautifulSoup\n",
    "from sklearn.linear_model import LinearRegression\n"
   ]
  },
  {
   "cell_type": "code",
   "execution_count": 2,
   "metadata": {
    "collapsed": false
   },
   "outputs": [
    {
     "data": {
      "text/html": [
       "<div>\n",
       "<table border=\"1\" class=\"dataframe\">\n",
       "  <thead>\n",
       "    <tr style=\"text-align: right;\">\n",
       "      <th></th>\n",
       "      <th>Team</th>\n",
       "      <th>Year</th>\n",
       "      <th>Wins</th>\n",
       "      <th>Champion</th>\n",
       "      <th>MVP</th>\n",
       "      <th>Scoring Leader</th>\n",
       "      <th>Rebound Leader</th>\n",
       "      <th>Assist Leader</th>\n",
       "      <th>WS Leader</th>\n",
       "      <th>DPOY</th>\n",
       "      <th>...</th>\n",
       "      <th>3P%</th>\n",
       "      <th>2P Attempts</th>\n",
       "      <th>2P%</th>\n",
       "      <th>FT%</th>\n",
       "      <th>RPG</th>\n",
       "      <th>APG</th>\n",
       "      <th>STL</th>\n",
       "      <th>BLK</th>\n",
       "      <th>TOVPG</th>\n",
       "      <th>PPG</th>\n",
       "    </tr>\n",
       "  </thead>\n",
       "  <tbody>\n",
       "  </tbody>\n",
       "</table>\n",
       "<p>0 rows × 27 columns</p>\n",
       "</div>"
      ],
      "text/plain": [
       "Empty DataFrame\n",
       "Columns: [Team, Year, Wins, Champion, MVP, Scoring Leader, Rebound Leader, Assist Leader, WS Leader, DPOY, MIP, 6MOY, Coach of Year, All-Stars, All-Defensive, FG%, 3P Attempts, 3P%, 2P Attempts, 2P%, FT%, RPG, APG, STL, BLK, TOVPG, PPG]\n",
       "Index: []\n",
       "\n",
       "[0 rows x 27 columns]"
      ]
     },
     "execution_count": 2,
     "metadata": {},
     "output_type": "execute_result"
    }
   ],
   "source": [
    "data = pd.DataFrame(columns= ['Team', 'Year','Wins','Champion','MVP','Scoring Leader', \n",
    "                              'Rebound Leader', 'Assist Leader', 'WS Leader','DPOY',\n",
    "                              'MIP', '6MOY', 'Coach of Year', 'All-Stars', 'All-Defensive',\n",
    "                              #'All-NBA', \n",
    "                              'FG%','3P Attempts', '3P%', '2P Attempts', '2P%','FT%','RPG',\n",
    "                              'APG','STL',  'BLK' , 'TOVPG','PPG', \n",
    "                             ])\n",
    "data\n",
    "\n"
   ]
  },
  {
   "cell_type": "code",
   "execution_count": 24,
   "metadata": {
    "collapsed": false
   },
   "outputs": [],
   "source": [
    "def check_roster(team_soup, season_awards, allst_roster, all_def, all_nba_roster):\n",
    "    awards = [0,0,0,0,0,0,0,0,0,0,0,0]\n",
    "    players = team_soup.find_all('td', {'class':'left', 'data-stat':'player'})\n",
    "    roster = [player.text for player in players]\n",
    "    coach = roster.append(team_soup.find(text=re.compile('Coach:')).parent.parent.find('a').text)\n",
    "    \n",
    "    star_count = 0\n",
    "    all_def_count = 0\n",
    "    for allst in allst_roster:\n",
    "        if allst in roster:\n",
    "            star_count += 1\n",
    " \n",
    "    awards[9] = star_count\n",
    "    for i in range(9):\n",
    "        if season_awards[i] in roster:\n",
    "            awards[i] = 1\n",
    "            \n",
    "    for player in roster:\n",
    "        if player in all_def:\n",
    "            all_def_count +=1 \n",
    "            \n",
    "    for i in range(3):\n",
    "        for player in all_nba_roster[i]:\n",
    "            if player in roster:\n",
    "                awards[10] += 3-i\n",
    "    awards[10] = all_def_count\n",
    "    \n",
    "    return awards"
   ]
  },
  {
   "cell_type": "code",
   "execution_count": 13,
   "metadata": {
    "collapsed": false
   },
   "outputs": [],
   "source": [
    "def get_team_row(all_def, all_nba,season_awards, allst_roster, name, team_url, year, wins):\n",
    "    row = []\n",
    "    row.append(name.replace('*',''))\n",
    "    row.append(year)\n",
    "    row.append(wins)\n",
    "    \n",
    "    roster = []\n",
    "    \n",
    "    url = 'http://www.basketball-reference.com' + team_url\n",
    "    req = requests.get(url)\n",
    "    time.sleep(0.1)\n",
    "    team_soup = BeautifulSoup(req.text, 'html.parser')\n",
    "    try:\n",
    "        row.append(team_soup.find('br').text[:4] == 'Won ')\n",
    "    except:\n",
    "        row.append(False)\n",
    "        \n",
    "    row += check_roster(team_soup, season_awards, allst_roster,all_def, all_nba)\n",
    "    row += get_statline(req.text)    \n",
    "    return row"
   ]
  },
  {
   "cell_type": "code",
   "execution_count": 14,
   "metadata": {
    "collapsed": false
   },
   "outputs": [],
   "source": [
    "leaders = ['Most Valuable Player', 'PPG Leader', 'RPG Leader',\n",
    "           'APG Leader', 'WS Leader']\n",
    "\n",
    "awards = ['Defensive Player of the Year', 'Most Improved Player', \n",
    "          'Sixth Man of the Year', 'Coach of the Year']\n",
    "\n",
    "def get_award_winners(season, year):\n",
    "    winners = []\n",
    "\n",
    "    if year == 2017:\n",
    "        return ['Russell Westbrook', 'Russell Westbrook', 'Hassan Whiteside','James Harden',\n",
    "                'James Harden', 'Draymond Green', 'Giannis Antetokounmpo','Andrew Iguodala',\n",
    "                \"Mike D'Antoni\"]\n",
    "    for leader in leaders:\n",
    "        winners.append(season.body.find(text=leader).parent.parent.find('a').text)\n",
    "\n",
    "    #Using a different site that's more convenient to scrape other awards.\n",
    "    year_string = '%s' % str(year)\n",
    "    next_year = '%s' % str(year+1)\n",
    "    years = '%s-%s' % (year_string, next_year[2:4])\n",
    "\n",
    "    for award in awards:\n",
    "        aw_url = 'http://www.nba.com/history/%s-award/' %(award.lower().replace(' ', '-'))\n",
    "        time.sleep(0.1)\n",
    "        aw_req = requests.get(aw_url)\n",
    "        aw_soup = BeautifulSoup(aw_req.text, 'html.parser')\n",
    "\n",
    "        table = aw_soup.find('table')    \n",
    "        try:\n",
    "            #If there is a link, you need 3 parents. if no link, 2\n",
    "            if ((award == 'Defensive Player of the Year' and year > 2000)\n",
    "                or (award == 'Most Improved Player' and year > 2004)\n",
    "                or (award == 'Sixth Man of the Year' and year > 2001)\n",
    "                or (award == 'Coach of the Year' and year > 2002)):\n",
    "                winners.append(table.find(text=re.compile(years)).parent.parent.parent.find_all('td')[1].text.strip())\n",
    "            else:\n",
    "                winners.append(table.find(text=re.compile(years)).parent.parent.find_all('td')[1].text.strip())\n",
    "\n",
    "        except:\n",
    "            winners.append('')\n",
    "    \n",
    "    return winners "
   ]
  },
  {
   "cell_type": "code",
   "execution_count": 15,
   "metadata": {
    "collapsed": true
   },
   "outputs": [],
   "source": [
    "# Append all_stars rosters to list\n",
    "def get_allstars(year):\n",
    "\n",
    "    url = \"http://www.basketball-reference.com/allstar/NBA_%s.html/\" % str(year)\n",
    "    req = requests.get(url)\n",
    "    soup = BeautifulSoup(req.text, 'html.parser')\n",
    "    all_stars = []\n",
    "    \n",
    "    #No all star game in 1999 due to league lockout\n",
    "    if year != 1999:\n",
    "        for row in soup.find(\"div\", {\"id\" : \"all_East\"}).find_all(\"th\", {\"class\" : \"left\", \"scope\" : \"row\", \"csk\" : True}):\n",
    "            all_stars.append(row.find(\"a\").text)\n",
    "        for row in soup.find(\"div\", {\"id\" : \"all_West\"}).find_all(\"th\", {\"class\" : \"left\", \"scope\" : \"row\", \"csk\" : True}):\n",
    "            all_stars.append(row.find(\"a\").text)\n",
    "        \n",
    "    return all_stars"
   ]
  },
  {
   "cell_type": "code",
   "execution_count": 16,
   "metadata": {
    "collapsed": true
   },
   "outputs": [],
   "source": [
    "## Because we need only 1 request to get the whole defensive page, each five players from list is from the First team of a season.\n",
    "def get_all_def():\n",
    "    url = \"http://www.nba.com/history/all-defensive-teams/\"\n",
    "    req = requests.get(url)\n",
    "    defensive = BeautifulSoup(req.text, 'html.parser')\n",
    "    all_defense = []\n",
    "    \n",
    "    for i in defensive.find_all(\"td\" , {\"class\" : \"cnnIEColTxtL\", \"style\" : \"text-align: center\"}):\n",
    "        if i.text == \"First Team\":\n",
    "            continue\n",
    "        all_defense.append(i.text)\n",
    "        \n",
    "    for i in defensive.find_all(\"td\" , {\"class\" : \"cnnIEColTxtR\", \"style\" : \"text-align: center\"}):\n",
    "        if i.text == \"Second Team\":\n",
    "            continue\n",
    "        all_defense.append(i.text)\n",
    "    return all_defense"
   ]
  },
  {
   "cell_type": "code",
   "execution_count": 17,
   "metadata": {
    "collapsed": true
   },
   "outputs": [],
   "source": [
    "def get_all_nba():\n",
    "    req = requests.get(\"http://www.basketball-reference.com/awards/all_league.html\")\n",
    "    soup = BeautifulSoup(req.text, \"html.parser\")\n",
    "    j = 0\n",
    "    i = 0\n",
    "    data_stat = 1\n",
    "    prev_year = \"17\"\n",
    "    dict_allnba = {\n",
    "\n",
    "    }\n",
    "    players = []\n",
    "    for row in soup.find_all(\"tr\", {\"class\" : False}):\n",
    "        content = row.text\n",
    "        year = content[:7]\n",
    "        year = year[:3] + year[-1]\n",
    "        league = content[7:10]\n",
    "        if league != \"NBA\":\n",
    "            j+=1 \n",
    "            continue\n",
    "        if ((i == 2) & (year != prev_year)):\n",
    "            dict_allnba[prev_year].append(players)\n",
    "            data_stat = 1\n",
    "            i = 0\n",
    "            j += 1\n",
    "        if (i == 3):\n",
    "            i = 0\n",
    "            data_stat = 1\n",
    "        if (soup.find_all(\"td\", {\"class\" : \"left\", \"data-stat\" : \"%s\" % str(1)})[j].find(\"a\") == None):\n",
    "            j += 1\n",
    "        # Create a list of players to hold 5 players\n",
    "        players = []   \n",
    "        if year not in dict_allnba:\n",
    "            dict_allnba[year] = []\n",
    "\n",
    "        for stat in range(data_stat, data_stat + 5):\n",
    "            try:\n",
    "                if (stat > 5) & (j != 0): \n",
    "                    new_j = int(j / 2)\n",
    "                    players.append(soup.find_all(\"td\", {\"class\" : \"left\", \"data-stat\" : \"%s\" % str(stat)})[new_j].find(\"a\").text)\n",
    "                else:\n",
    "                    players.append(soup.find_all(\"td\", {\"class\" : \"left\", \"data-stat\" : \"%s\" % str(stat)})[j].find(\"a\").text)\n",
    "            except:\n",
    "                pass           \n",
    "            if (stat == 5) | (stat == 10) | (stat == 15):\n",
    "                dict_allnba[year].append(players)\n",
    "                players = []\n",
    "        data_stat += 5\n",
    "        i += 1\n",
    "        prev_year = year\n",
    "\n",
    "        if (data_stat == 16):\n",
    "            data_stat = 1\n",
    "            j += 1\n",
    "\n",
    "    return dict_allnba"
   ]
  },
  {
   "cell_type": "code",
   "execution_count": 18,
   "metadata": {
    "collapsed": false
   },
   "outputs": [],
   "source": [
    "def get_statline(page_text):\n",
    "    stats = [0,0,0,0,0,0,0,0,0,0,0,0]\n",
    "    stat_search = ['fg_pct', 'fg3a', 'fg3_pct', 'fg2a', 'fg2_pct',\n",
    "                   'ft_pct','trb_per_g','ast_per_g','stl_per_g',\n",
    "                   'blk_per_g','tov_per_g','pts_per_g']\n",
    "    \n",
    "    for i in range(len(stat_search)):\n",
    "        indexer = page_text.find('data-stat=\"%s\" >' % (stat_search[i]))\n",
    "        try:\n",
    "            offset = len(stat_search[i]) + 14\n",
    "            stat = re.sub(\"<\", '',page_text[indexer+offset: indexer+offset+6]).rstrip('/td<>')\n",
    "            stat = float(stat)\n",
    "        except:\n",
    "            stat = 0\n",
    "        stats[i] = stat\n",
    "    \n",
    "    return stats"
   ]
  },
  {
   "cell_type": "code",
   "execution_count": 26,
   "metadata": {
    "collapsed": false
   },
   "outputs": [
    {
     "name": "stdout",
     "output_type": "stream",
     "text": [
      "1962\n",
      "Team\n",
      "Boston Celtics*\n",
      "0\n",
      "[['Wilt Chamberlain', 'Elgin Baylor', 'Bob Pettit', 'Bob Cousy', 'Oscar Robertson'], ['Bill Russell', 'Tom Heinsohn', 'Dolph Schayes', 'Larry Costello', 'Gene Shue'], []]\n",
      "['Wilt Chamberlain', 'Elgin Baylor', 'Bob Pettit', 'Bob Cousy', 'Oscar Robertson']\n",
      "1\n",
      "[['Wilt Chamberlain', 'Elgin Baylor', 'Bob Pettit', 'Bob Cousy', 'Oscar Robertson'], ['Bill Russell', 'Tom Heinsohn', 'Dolph Schayes', 'Larry Costello', 'Gene Shue'], []]\n",
      "['Bill Russell', 'Tom Heinsohn', 'Dolph Schayes', 'Larry Costello', 'Gene Shue']\n",
      "2\n",
      "[['Wilt Chamberlain', 'Elgin Baylor', 'Bob Pettit', 'Bob Cousy', 'Oscar Robertson'], ['Bill Russell', 'Tom Heinsohn', 'Dolph Schayes', 'Larry Costello', 'Gene Shue'], []]\n",
      "[]\n"
     ]
    },
    {
     "ename": "ValueError",
     "evalue": "cannot set a row with mismatched columns",
     "output_type": "error",
     "traceback": [
      "\u001b[0;31m---------------------------------------------------------------------------\u001b[0m",
      "\u001b[0;31mValueError\u001b[0m                                Traceback (most recent call last)",
      "\u001b[0;32m<ipython-input-26-8f559ebbf7cf>\u001b[0m in \u001b[0;36m<module>\u001b[0;34m()\u001b[0m\n\u001b[1;32m     27\u001b[0m         \u001b[0;32mfor\u001b[0m \u001b[0ma\u001b[0m \u001b[0;32min\u001b[0m \u001b[0mteam\u001b[0m\u001b[0;34m.\u001b[0m\u001b[0mfind_all\u001b[0m\u001b[0;34m(\u001b[0m\u001b[0;34m'a'\u001b[0m\u001b[0;34m,\u001b[0m\u001b[0mhref\u001b[0m\u001b[0;34m=\u001b[0m\u001b[0;32mTrue\u001b[0m\u001b[0;34m)\u001b[0m\u001b[0;34m:\u001b[0m\u001b[0;34m\u001b[0m\u001b[0m\n\u001b[1;32m     28\u001b[0m             \u001b[0mnew_row\u001b[0m \u001b[0;34m=\u001b[0m \u001b[0mget_team_row\u001b[0m\u001b[0;34m(\u001b[0m\u001b[0mall_def\u001b[0m\u001b[0;34m,\u001b[0m\u001b[0mall_nba_team\u001b[0m\u001b[0;34m,\u001b[0m\u001b[0mseason_awards\u001b[0m\u001b[0;34m,\u001b[0m\u001b[0mallst_roster\u001b[0m\u001b[0;34m,\u001b[0m\u001b[0mteam_name\u001b[0m\u001b[0;34m,\u001b[0m\u001b[0ma\u001b[0m\u001b[0;34m[\u001b[0m\u001b[0;34m'href'\u001b[0m\u001b[0;34m]\u001b[0m\u001b[0;34m,\u001b[0m \u001b[0mi\u001b[0m\u001b[0;34m,\u001b[0m \u001b[0mwins\u001b[0m\u001b[0;34m)\u001b[0m\u001b[0;34m\u001b[0m\u001b[0m\n\u001b[0;32m---> 29\u001b[0;31m             \u001b[0mdata\u001b[0m\u001b[0;34m.\u001b[0m\u001b[0mloc\u001b[0m\u001b[0;34m[\u001b[0m\u001b[0mrow_num\u001b[0m\u001b[0;34m]\u001b[0m \u001b[0;34m=\u001b[0m \u001b[0mnew_row\u001b[0m\u001b[0;34m\u001b[0m\u001b[0m\n\u001b[0m\u001b[1;32m     30\u001b[0m             \u001b[0mrow_num\u001b[0m \u001b[0;34m+=\u001b[0m \u001b[0;36m1\u001b[0m\u001b[0;34m\u001b[0m\u001b[0m\n",
      "\u001b[0;32m/opt/conda/lib/python3.5/site-packages/pandas/core/indexing.py\u001b[0m in \u001b[0;36m__setitem__\u001b[0;34m(self, key, value)\u001b[0m\n\u001b[1;32m    139\u001b[0m             \u001b[0mkey\u001b[0m \u001b[0;34m=\u001b[0m \u001b[0mcom\u001b[0m\u001b[0;34m.\u001b[0m\u001b[0m_apply_if_callable\u001b[0m\u001b[0;34m(\u001b[0m\u001b[0mkey\u001b[0m\u001b[0;34m,\u001b[0m \u001b[0mself\u001b[0m\u001b[0;34m.\u001b[0m\u001b[0mobj\u001b[0m\u001b[0;34m)\u001b[0m\u001b[0;34m\u001b[0m\u001b[0m\n\u001b[1;32m    140\u001b[0m         \u001b[0mindexer\u001b[0m \u001b[0;34m=\u001b[0m \u001b[0mself\u001b[0m\u001b[0;34m.\u001b[0m\u001b[0m_get_setitem_indexer\u001b[0m\u001b[0;34m(\u001b[0m\u001b[0mkey\u001b[0m\u001b[0;34m)\u001b[0m\u001b[0;34m\u001b[0m\u001b[0m\n\u001b[0;32m--> 141\u001b[0;31m         \u001b[0mself\u001b[0m\u001b[0;34m.\u001b[0m\u001b[0m_setitem_with_indexer\u001b[0m\u001b[0;34m(\u001b[0m\u001b[0mindexer\u001b[0m\u001b[0;34m,\u001b[0m \u001b[0mvalue\u001b[0m\u001b[0;34m)\u001b[0m\u001b[0;34m\u001b[0m\u001b[0m\n\u001b[0m\u001b[1;32m    142\u001b[0m \u001b[0;34m\u001b[0m\u001b[0m\n\u001b[1;32m    143\u001b[0m     \u001b[0;32mdef\u001b[0m \u001b[0m_has_valid_type\u001b[0m\u001b[0;34m(\u001b[0m\u001b[0mself\u001b[0m\u001b[0;34m,\u001b[0m \u001b[0mk\u001b[0m\u001b[0;34m,\u001b[0m \u001b[0maxis\u001b[0m\u001b[0;34m)\u001b[0m\u001b[0;34m:\u001b[0m\u001b[0;34m\u001b[0m\u001b[0m\n",
      "\u001b[0;32m/opt/conda/lib/python3.5/site-packages/pandas/core/indexing.py\u001b[0m in \u001b[0;36m_setitem_with_indexer\u001b[0;34m(self, indexer, value)\u001b[0m\n\u001b[1;32m    377\u001b[0m                         \u001b[0;32mif\u001b[0m \u001b[0mis_list_like_indexer\u001b[0m\u001b[0;34m(\u001b[0m\u001b[0mvalue\u001b[0m\u001b[0;34m)\u001b[0m\u001b[0;34m:\u001b[0m\u001b[0;34m\u001b[0m\u001b[0m\n\u001b[1;32m    378\u001b[0m                             \u001b[0;32mif\u001b[0m \u001b[0mlen\u001b[0m\u001b[0;34m(\u001b[0m\u001b[0mvalue\u001b[0m\u001b[0;34m)\u001b[0m \u001b[0;34m!=\u001b[0m \u001b[0mlen\u001b[0m\u001b[0;34m(\u001b[0m\u001b[0mself\u001b[0m\u001b[0;34m.\u001b[0m\u001b[0mobj\u001b[0m\u001b[0;34m.\u001b[0m\u001b[0mcolumns\u001b[0m\u001b[0;34m)\u001b[0m\u001b[0;34m:\u001b[0m\u001b[0;34m\u001b[0m\u001b[0m\n\u001b[0;32m--> 379\u001b[0;31m                                 raise ValueError(\"cannot set a row with \"\n\u001b[0m\u001b[1;32m    380\u001b[0m                                                  \"mismatched columns\")\n\u001b[1;32m    381\u001b[0m \u001b[0;34m\u001b[0m\u001b[0m\n",
      "\u001b[0;31mValueError\u001b[0m: cannot set a row with mismatched columns"
     ]
    }
   ],
   "source": [
    "row_num = 0\n",
    "#all_def = get_all_def()\n",
    "#all_nba = get_all_nba()\n",
    "for i in range(1960,2018):\n",
    "    print(i)\n",
    "    double_count = 0\n",
    "    url = ('http://www.basketball-reference.com/leagues/NBA_%s.html' % str(i))\n",
    "    time.sleep(0.1)\n",
    "    req = requests.get(url)\n",
    "    season = BeautifulSoup(req.text, 'html.parser')\n",
    "    teams = season.find_all('th', {'class': 'left', 'data-stat':'team_name'})\n",
    "   \n",
    "    season_awards = get_award_winners(season, i)\n",
    "    allst_roster = get_allstars(i)\n",
    "    all_nba_team = all_nba[str(i)]\n",
    "    \n",
    "    for team in teams:\n",
    "        double_count += 1\n",
    "        if(double_count > 32):\n",
    "            break\n",
    "        if(team.text == 'Team' or 'Conference' in team.text):\n",
    "            continue\n",
    "        wins = int(team.parent.find('td', {'data-stat':'wins'}).text)\n",
    "     \n",
    "        team_name = repr(team.text).replace('\\\\x','*').split('*')[0].strip(\"'\")\n",
    "        for a in team.find_all('a',href=True):\n",
    "            new_row = get_team_row(all_def,all_nba_team,season_awards,allst_roster,team_name,a['href'], i, wins)\n",
    "            data.loc[row_num] = new_row\n",
    "            row_num += 1\n"
   ]
  },
  {
   "cell_type": "code",
   "execution_count": null,
   "metadata": {
    "collapsed": true
   },
   "outputs": [],
   "source": [
    "name_changes = [['Rockets', 'Houston Rockets'], ['Lakers', 'Los Angeles Lakers'], ['Jazz', 'Utah Jazz'],\n",
    "                ['Hawks', 'Atlanta Hawks'], ['Clippers', 'Los Angeles Clippers'], ['Grizzlies', 'Memphis Grizzlies'],\n",
    "                ['SuperSonics', 'Oklahoma City Thunder'], ['Kings', 'Sacramento Kings'], \n",
    "                ['Royals', 'Sacramento Kings'], ['Zephyrs', 'Washington Wizards'],\n",
    "                ['Bobcats', 'Charlotte Hornets'], ['Warriors', 'Golden State Warriors'],\n",
    "                ['New Orleans', 'New Orleans Pelicans'], ['Syracuse', 'Philadelphia 76ers'],\n",
    "                ['Nets','Brooklyn Nets'], ['Bullets', 'Washington Wizards'], \n",
    "                ['Buffalo', 'Los Angeles Clippers'], ['Packers', 'Washington Wizards'] ]\n",
    "for name_change in name_changes:\n",
    "    data.ix[data.Team.str.contains(name_change[0]), 'Team'] = name_change[1]\n",
    "\n"
   ]
  },
  {
   "cell_type": "code",
   "execution_count": null,
   "metadata": {
    "collapsed": true
   },
   "outputs": [],
   "source": [
    "data['Accolades'] = (data['MVP'] + data['Scoring Leader'] + data['Rebound Leader'] + data['Assist Leader']\n",
    "                     + data['WS Leader'] + data['DPOY'] + data['MIP'] + data['6MOY'] + data['Coach of Year']\n",
    "                     + data['All-Stars'] + data['All-Defensive'] + data['All-NBA'])"
   ]
  },
  {
   "cell_type": "code",
   "execution_count": null,
   "metadata": {
    "collapsed": true
   },
   "outputs": [],
   "source": [
    "data"
   ]
  },
  {
   "cell_type": "code",
   "execution_count": null,
   "metadata": {
    "collapsed": true
   },
   "outputs": [],
   "source": [
    "data.to_csv('nba_data.csv')"
   ]
  }
 ],
 "metadata": {
  "kernelspec": {
   "display_name": "Python 3",
   "language": "python",
   "name": "python3"
  },
  "language_info": {
   "codemirror_mode": {
    "name": "ipython",
    "version": 3
   },
   "file_extension": ".py",
   "mimetype": "text/x-python",
   "name": "python",
   "nbconvert_exporter": "python",
   "pygments_lexer": "ipython3",
   "version": "3.6.0"
  }
 },
 "nbformat": 4,
 "nbformat_minor": 1
}
